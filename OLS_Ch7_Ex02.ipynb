{
 "cells": [
  {
   "cell_type": "markdown",
   "metadata": {},
   "source": [
    "# OLS - Wooldridge Computer Exercise\n",
    "## Chapter 7, Exercise 2"
   ]
  },
  {
   "cell_type": "markdown",
   "metadata": {},
   "source": [
    "## To add a heading:\n",
    "- Insert a new cell\n",
    "- Type or paste-in content\n",
    "- Place a single / just one \"pound-sign\" in front of the heading content\n",
    "- Select \"Markdown\"\n",
    "- Press \"Shift\", \"Enter\" at same time to convert to clean commentary"
   ]
  },
  {
   "cell_type": "markdown",
   "metadata": {},
   "source": [
    "## To add a sub-heading:\n",
    "- Insert a new cell\n",
    "- Type or paste-in content\n",
    "- Place two \"pound-signs\" in front of the sub-heading\n",
    "- Select \"Markdown\"\n",
    "- Press \"Shift\", \"Enter\" at same time to convert to clean commentary"
   ]
  },
  {
   "cell_type": "markdown",
   "metadata": {},
   "source": [
    "## To add new bulleted documentation:\n",
    "\n",
    "- Insert a new cell\n",
    "- Type or paste-in content\n",
    "- Place a \"dash\" character in front of the bulleted content\n",
    "- Select \"Markdown\"\n",
    "- Press \"Shift\", \"Enter\" at same time to convert to clean commentary"
   ]
  },
  {
   "cell_type": "markdown",
   "metadata": {},
   "source": [
    "# References\n",
    "- Wooldridge, J.M. (2016). Introductory econometrics: A modern approach (6thed.). Mason, OH: South-Western, Cengage Learning.\n",
    "- Residual Plots: https://medium.com/@emredjan/emulating-r-regression-plots-in-python-43741952c034\n",
    "- Understanding residual plots: https://data.library.virginia.edu/diagnostic-plots/\n",
    "- VIF: https://etav.github.io/python/vif_factor_python.html\n",
    "- VIF: https://en.wikipedia.org/wiki/Variance_inflation_factor\n",
    "- Extracting various values from regression results: https://www.statsmodels.org/dev/generated/statsmodels.regression.linear_model.RegressionResults.html"
   ]
  },
  {
   "cell_type": "markdown",
   "metadata": {},
   "source": [
    "# Instantiate libraries"
   ]
  },
  {
   "cell_type": "code",
   "execution_count": 1,
   "metadata": {},
   "outputs": [],
   "source": [
    "import pandas as pd\n",
    "import numpy as np\n",
    "import matplotlib.pyplot as plt\n",
    "import seaborn as sns\n",
    "%matplotlib inline\n",
    "\n",
    "import statsmodels\n",
    "import statsmodels.api as sm\n",
    "import statsmodels.stats.api as sms\n",
    "\n",
    "from statsmodels.formula.api import ols\n",
    "from statsmodels.compat import lzip\n",
    "from patsy import dmatrices\n",
    "from statsmodels.stats.outliers_influence import variance_inflation_factor\n",
    "\n",
    "from statsmodels.graphics.gofplots import ProbPlot\n",
    "\n",
    "#import pandas.tseries.api as sm\n",
    "#from tseries.formula.apt import ols\n",
    "\n",
    "from scipy.stats import ttest_ind, ttest_ind_from_stats\n",
    "from scipy.special import stdtr\n",
    "\n",
    "\n",
    "plt.style.use('seaborn') # pretty matplotlib plots\n",
    "\n",
    "plt.rc('font', size=14)\n",
    "plt.rc('figure', titlesize=18)\n",
    "plt.rc('axes', labelsize=15)\n",
    "plt.rc('axes', titlesize=18)\n",
    "\n",
    "# Latex markup language \n",
    "from IPython.display import Latex"
   ]
  },
  {
   "cell_type": "markdown",
   "metadata": {},
   "source": [
    "# Data Read from csv"
   ]
  },
  {
   "cell_type": "code",
   "execution_count": 2,
   "metadata": {},
   "outputs": [
    {
     "name": "stdout",
     "output_type": "stream",
     "text": [
      "   wage  hours   IQ  KWW  educ  exper  tenure  age  married  black  south  \\\n",
      "0   769     40   93   35    12     11       2   31        1      0      0   \n",
      "1   808     50  119   41    18     11      16   37        1      0      0   \n",
      "2   825     40  108   46    14     11       9   33        1      0      0   \n",
      "3   650     40   96   32    12     13       7   32        1      0      0   \n",
      "4   562     40   74   27    11     14       5   34        1      0      0   \n",
      "\n",
      "   urban  sibs  brthord  meduc  feduc     lwage  \n",
      "0      1     1      2.0    8.0    8.0  6.645091  \n",
      "1      1     1      NaN   14.0   14.0  6.694562  \n",
      "2      1     1      2.0   14.0   14.0  6.715384  \n",
      "3      1     4      3.0   12.0   12.0  6.476973  \n",
      "4      1    10      6.0    6.0   11.0  6.331502  \n",
      "Wall time: 51.7 ms\n"
     ]
    }
   ],
   "source": [
    "%%time\n",
    "#df = pd.read_csv(BytesIO(csv_as_bytes),sep='|',nrows=100000)\n",
    "df1 = pd.read_stata('C://Users//mvrie//Downloads//firepit-master//WAGE2.dta')\n",
    "print(df1.head())"
   ]
  },
  {
   "cell_type": "code",
   "execution_count": 3,
   "metadata": {},
   "outputs": [],
   "source": [
    "df1['constant'] = 1"
   ]
  },
  {
   "cell_type": "markdown",
   "metadata": {},
   "source": [
    "# Data Checks\n",
    "- Columns"
   ]
  },
  {
   "cell_type": "code",
   "execution_count": 4,
   "metadata": {},
   "outputs": [
    {
     "name": "stdout",
     "output_type": "stream",
     "text": [
      "<class 'pandas.core.frame.DataFrame'>\n",
      "Int64Index: 935 entries, 0 to 934\n",
      "Data columns (total 18 columns):\n",
      "wage        935 non-null int16\n",
      "hours       935 non-null int8\n",
      "IQ          935 non-null int16\n",
      "KWW         935 non-null int8\n",
      "educ        935 non-null int8\n",
      "exper       935 non-null int8\n",
      "tenure      935 non-null int8\n",
      "age         935 non-null int8\n",
      "married     935 non-null int8\n",
      "black       935 non-null int8\n",
      "south       935 non-null int8\n",
      "urban       935 non-null int8\n",
      "sibs        935 non-null int8\n",
      "brthord     852 non-null float64\n",
      "meduc       857 non-null float64\n",
      "feduc       741 non-null float64\n",
      "lwage       935 non-null float32\n",
      "constant    935 non-null int64\n",
      "dtypes: float32(1), float64(3), int16(2), int64(1), int8(11)\n",
      "memory usage: 53.9 KB\n",
      "Wall time: 4.95 ms\n"
     ]
    }
   ],
   "source": [
    "%%time\n",
    "df1.info()"
   ]
  },
  {
   "cell_type": "markdown",
   "metadata": {},
   "source": [
    "## Exercise i:\n",
    "### Estimate: $lwage = \\alpha + \\beta_{1} educ + \\beta_{2} exper + \\beta_{3} tenure + \\beta_{4} married + \\beta_{5} black + \\beta_{6} south + \\beta_{7} urban + \\mu$"
   ]
  },
  {
   "cell_type": "code",
   "execution_count": 5,
   "metadata": {},
   "outputs": [
    {
     "name": "stdout",
     "output_type": "stream",
     "text": [
      "                            OLS Regression Results                            \n",
      "==============================================================================\n",
      "Dep. Variable:                  lwage   R-squared:                       0.253\n",
      "Model:                            OLS   Adj. R-squared:                  0.247\n",
      "Method:                 Least Squares   F-statistic:                     44.75\n",
      "Date:                Sun, 08 Mar 2020   Prob (F-statistic):           1.16e-54\n",
      "Time:                        13:04:22   Log-Likelihood:                -381.55\n",
      "No. Observations:                 935   AIC:                             779.1\n",
      "Df Residuals:                     927   BIC:                             817.8\n",
      "Df Model:                           7                                         \n",
      "Covariance Type:            nonrobust                                         \n",
      "==============================================================================\n",
      "                 coef    std err          t      P>|t|      [0.025      0.975]\n",
      "------------------------------------------------------------------------------\n",
      "Intercept      5.3955      0.113     47.653      0.000       5.173       5.618\n",
      "educ           0.0654      0.006     10.468      0.000       0.053       0.078\n",
      "exper          0.0140      0.003      4.409      0.000       0.008       0.020\n",
      "tenure         0.0117      0.002      4.789      0.000       0.007       0.017\n",
      "married        0.1994      0.039      5.107      0.000       0.123       0.276\n",
      "black         -0.1883      0.038     -5.000      0.000      -0.262      -0.114\n",
      "south         -0.0909      0.026     -3.463      0.001      -0.142      -0.039\n",
      "urban          0.1839      0.027      6.822      0.000       0.131       0.237\n",
      "==============================================================================\n",
      "Omnibus:                       38.227   Durbin-Watson:                   1.823\n",
      "Prob(Omnibus):                  0.000   Jarque-Bera (JB):               83.390\n",
      "Skew:                          -0.224   Prob(JB):                     7.80e-19\n",
      "Kurtosis:                       4.393   Cond. No.                         187.\n",
      "==============================================================================\n",
      "\n",
      "Warnings:\n",
      "[1] Standard Errors assume that the covariance matrix of the errors is correctly specified.\n"
     ]
    }
   ],
   "source": [
    "formula1 = '''lwage ~ educ + exper + tenure + married + black + south + urban'''\n",
    "#model = ols(formula, df1).fit(cov_type='HC0')\n",
    "model1 = ols(formula1, df1)\n",
    "results1 = model1.fit()\n",
    "#aov_table1 = statsmodels.stats.anova.anova_lm(results1, typ=2)\n",
    "#print(aov_table1)\n",
    "print(results1.summary())"
   ]
  },
  {
   "cell_type": "markdown",
   "metadata": {},
   "source": [
    "## Exercise ii:\n",
    "### Estimate: $lwage = \\alpha + \\beta_{1} educ + \\beta_{2} exper + \\beta_{3} tenure + \\beta_{4} married + \\beta_{5} black + \\beta_{6} south + \\beta_{7} urban + \\beta_{8} exper^{2} + \\beta_{9} tenure^{2} + \\mu$"
   ]
  },
  {
   "cell_type": "code",
   "execution_count": 6,
   "metadata": {},
   "outputs": [
    {
     "name": "stdout",
     "output_type": "stream",
     "text": [
      "                            OLS Regression Results                            \n",
      "==============================================================================\n",
      "Dep. Variable:                  lwage   R-squared:                       0.254\n",
      "Model:                            OLS   Adj. R-squared:                  0.246\n",
      "Method:                 Least Squares   F-statistic:                     34.95\n",
      "Date:                Sun, 08 Mar 2020   Prob (F-statistic):           2.55e-53\n",
      "Time:                        13:09:31   Log-Likelihood:                -380.81\n",
      "No. Observations:                 935   AIC:                             781.6\n",
      "Df Residuals:                     925   BIC:                             830.0\n",
      "Df Model:                           9                                         \n",
      "Covariance Type:            nonrobust                                         \n",
      "==============================================================================\n",
      "                 coef    std err          t      P>|t|      [0.025      0.975]\n",
      "------------------------------------------------------------------------------\n",
      "Intercept      5.3968      0.113     47.644      0.000       5.175       5.619\n",
      "educ           0.0651      0.006     10.410      0.000       0.053       0.077\n",
      "exper          0.0150      0.007      2.240      0.025       0.002       0.028\n",
      "tenure         0.0047      0.006      0.736      0.462      -0.008       0.017\n",
      "married        0.2018      0.039      5.159      0.000       0.125       0.279\n",
      "black         -0.1907      0.038     -5.052      0.000      -0.265      -0.117\n",
      "south         -0.0914      0.026     -3.480      0.001      -0.143      -0.040\n",
      "urban          0.1826      0.027      6.764      0.000       0.130       0.236\n",
      "exper ^ 2     -0.0010      0.006     -0.173      0.862      -0.013       0.011\n",
      "tenure ^ 2     0.0073      0.006      1.201      0.230      -0.005       0.019\n",
      "==============================================================================\n",
      "Omnibus:                       37.771   Durbin-Watson:                   1.825\n",
      "Prob(Omnibus):                  0.000   Jarque-Bera (JB):               81.259\n",
      "Skew:                          -0.225   Prob(JB):                     2.26e-18\n",
      "Kurtosis:                       4.372   Cond. No.                         233.\n",
      "==============================================================================\n",
      "\n",
      "Warnings:\n",
      "[1] Standard Errors assume that the covariance matrix of the errors is correctly specified.\n"
     ]
    }
   ],
   "source": [
    "formula1 = '''lwage ~ educ + exper + tenure + married + black + south + urban + exper^2 + tenure^2'''\n",
    "#model = ols(formula, df1).fit(cov_type='HC0')\n",
    "model1 = ols(formula1, df1)\n",
    "results1 = model1.fit()\n",
    "#aov_table1 = statsmodels.stats.anova.anova_lm(results1, typ=2)\n",
    "#print(aov_table1)\n",
    "print(results1.summary())"
   ]
  },
  {
   "cell_type": "markdown",
   "metadata": {},
   "source": [
    "## Check for joint significance on exper^2 and tenure^2\n",
    "## Unrestricted model:\n",
    "### $lwage = \\alpha + \\beta_{1} educ + \\beta_{2} exper + \\beta_{3} tenure + \\beta_{4} married + \\beta_{5} black + \\beta_{6} south + \\beta_{7} urban + \\beta_{8} exper^{2} + \\beta_{9} tenure^{2} + \\mu$\n",
    "## Restricted Model:\n",
    "### $lwage = \\alpha + \\beta_{1} educ + \\beta_{2} exper + \\beta_{3} tenure + \\beta_{4} married + \\beta_{5} black + \\beta_{6} south + \\beta_{7} urban + \\mu$"
   ]
  },
  {
   "cell_type": "code",
   "execution_count": 12,
   "metadata": {},
   "outputs": [
    {
     "name": "stdout",
     "output_type": "stream",
     "text": [
      "                            OLS Regression Results                            \n",
      "==============================================================================\n",
      "Dep. Variable:                  lwage   R-squared:                       0.253\n",
      "Model:                            OLS   Adj. R-squared:                  0.247\n",
      "Method:                 Least Squares   F-statistic:                     44.75\n",
      "Date:                Sun, 08 Mar 2020   Prob (F-statistic):           1.16e-54\n",
      "Time:                        13:21:20   Log-Likelihood:                -381.55\n",
      "No. Observations:                 935   AIC:                             779.1\n",
      "Df Residuals:                     927   BIC:                             817.8\n",
      "Df Model:                           7                                         \n",
      "Covariance Type:            nonrobust                                         \n",
      "==============================================================================\n",
      "                 coef    std err          t      P>|t|      [0.025      0.975]\n",
      "------------------------------------------------------------------------------\n",
      "Intercept      5.3955      0.113     47.653      0.000       5.173       5.618\n",
      "educ           0.0654      0.006     10.468      0.000       0.053       0.078\n",
      "exper          0.0140      0.003      4.409      0.000       0.008       0.020\n",
      "tenure         0.0117      0.002      4.789      0.000       0.007       0.017\n",
      "married        0.1994      0.039      5.107      0.000       0.123       0.276\n",
      "black         -0.1883      0.038     -5.000      0.000      -0.262      -0.114\n",
      "south         -0.0909      0.026     -3.463      0.001      -0.142      -0.039\n",
      "urban          0.1839      0.027      6.822      0.000       0.131       0.237\n",
      "==============================================================================\n",
      "Omnibus:                       38.227   Durbin-Watson:                   1.823\n",
      "Prob(Omnibus):                  0.000   Jarque-Bera (JB):               83.390\n",
      "Skew:                          -0.224   Prob(JB):                     7.80e-19\n",
      "Kurtosis:                       4.393   Cond. No.                         187.\n",
      "==============================================================================\n",
      "\n",
      "Warnings:\n",
      "[1] Standard Errors assume that the covariance matrix of the errors is correctly specified.\n",
      "                            OLS Regression Results                            \n",
      "==============================================================================\n",
      "Dep. Variable:                  lwage   R-squared:                       0.254\n",
      "Model:                            OLS   Adj. R-squared:                  0.246\n",
      "Method:                 Least Squares   F-statistic:                     34.95\n",
      "Date:                Sun, 08 Mar 2020   Prob (F-statistic):           2.55e-53\n",
      "Time:                        13:21:20   Log-Likelihood:                -380.81\n",
      "No. Observations:                 935   AIC:                             781.6\n",
      "Df Residuals:                     925   BIC:                             830.0\n",
      "Df Model:                           9                                         \n",
      "Covariance Type:            nonrobust                                         \n",
      "==============================================================================\n",
      "                 coef    std err          t      P>|t|      [0.025      0.975]\n",
      "------------------------------------------------------------------------------\n",
      "Intercept      5.3968      0.113     47.644      0.000       5.175       5.619\n",
      "educ           0.0651      0.006     10.410      0.000       0.053       0.077\n",
      "exper          0.0150      0.007      2.240      0.025       0.002       0.028\n",
      "tenure         0.0047      0.006      0.736      0.462      -0.008       0.017\n",
      "married        0.2018      0.039      5.159      0.000       0.125       0.279\n",
      "black         -0.1907      0.038     -5.052      0.000      -0.265      -0.117\n",
      "south         -0.0914      0.026     -3.480      0.001      -0.143      -0.040\n",
      "urban          0.1826      0.027      6.764      0.000       0.130       0.236\n",
      "exper ^ 2     -0.0010      0.006     -0.173      0.862      -0.013       0.011\n",
      "tenure ^ 2     0.0073      0.006      1.201      0.230      -0.005       0.019\n",
      "==============================================================================\n",
      "Omnibus:                       37.771   Durbin-Watson:                   1.825\n",
      "Prob(Omnibus):                  0.000   Jarque-Bera (JB):               81.259\n",
      "Skew:                          -0.225   Prob(JB):                     2.26e-18\n",
      "Kurtosis:                       4.372   Cond. No.                         233.\n",
      "==============================================================================\n",
      "\n",
      "Warnings:\n",
      "[1] Standard Errors assume that the covariance matrix of the errors is correctly specified.\n",
      "\n",
      "F-Statistic: Restricted vs Unrestricted Models\n",
      "0.7336978595371457\n",
      "\n",
      "F-Statistic: Restricted vs Unrestricted Models\n",
      "(0.7336978595371456, 0.48040945148865055, 2.0)\n"
     ]
    }
   ],
   "source": [
    "formula1 = '''lwage ~ educ + exper + tenure + married + black + south + urban'''\n",
    "formula2 = '''lwage ~ educ + exper + tenure + married + black + south + urban + exper^2 + tenure^2'''\n",
    "#model = ols(formula, df1).fit(cov_type='HC0')\n",
    "model1 = ols(formula1, df1)\n",
    "results1 = model1.fit()\n",
    "model2 = ols(formula2, df1)\n",
    "results2 = model2.fit()\n",
    "# aov_table1 = statsmodels.stats.anova.anova_lm(results1, typ=2)\n",
    "# aov_table2 = statsmodels.stats.anova.anova_lm(results2, typ=2)\n",
    "# print(aov_table1)\n",
    "# print(aov_table2)\n",
    "print(results1.summary())\n",
    "print(results2.summary())\n",
    "ssr_r = results1.ssr\n",
    "ssr_ur = results2.ssr\n",
    "df_ur = results2.df_resid\n",
    "f_stat = ((ssr_r-ssr_ur) / 2) / (ssr_ur / results2.df_resid)\n",
    "print()\n",
    "print('F-Statistic: Restricted vs Unrestricted Models')\n",
    "print(f_stat)\n",
    "print()\n",
    "print('F-Statistic: Restricted vs Unrestricted Models')\n",
    "print(results2.compare_f_test(results1))"
   ]
  },
  {
   "cell_type": "markdown",
   "metadata": {},
   "source": [
    "## Exercise iii:\n",
    "### Estimate: $lwage = \\alpha + \\beta_{1} educ + \\beta_{2} exper + \\beta_{3} tenure + \\beta_{4} married + \\beta_{5} black + \\beta_{6} south + \\beta_{7} urban + \\beta_{8} educ \\times black + \\mu$"
   ]
  },
  {
   "cell_type": "code",
   "execution_count": 13,
   "metadata": {},
   "outputs": [
    {
     "name": "stdout",
     "output_type": "stream",
     "text": [
      "                            OLS Regression Results                            \n",
      "==============================================================================\n",
      "Dep. Variable:                  lwage   R-squared:                       0.254\n",
      "Model:                            OLS   Adj. R-squared:                  0.247\n",
      "Method:                 Least Squares   F-statistic:                     39.32\n",
      "Date:                Sun, 08 Mar 2020   Prob (F-statistic):           4.35e-54\n",
      "Time:                        13:24:51   Log-Likelihood:                -380.92\n",
      "No. Observations:                 935   AIC:                             779.8\n",
      "Df Residuals:                     926   BIC:                             823.4\n",
      "Df Model:                           8                                         \n",
      "Covariance Type:            nonrobust                                         \n",
      "==============================================================================\n",
      "                 coef    std err          t      P>|t|      [0.025      0.975]\n",
      "------------------------------------------------------------------------------\n",
      "Intercept      5.3748      0.115     46.859      0.000       5.150       5.600\n",
      "educ           0.0671      0.006     10.442      0.000       0.055       0.080\n",
      "exper          0.0138      0.003      4.333      0.000       0.008       0.020\n",
      "tenure         0.0118      0.002      4.805      0.000       0.007       0.017\n",
      "married        0.1989      0.039      5.094      0.000       0.122       0.276\n",
      "black          0.0948      0.255      0.371      0.711      -0.406       0.596\n",
      "south         -0.0894      0.026     -3.404      0.001      -0.141      -0.038\n",
      "urban          0.1839      0.027      6.821      0.000       0.131       0.237\n",
      "educ:black    -0.0226      0.020     -1.121      0.263      -0.062       0.017\n",
      "==============================================================================\n",
      "Omnibus:                       38.505   Durbin-Watson:                   1.827\n",
      "Prob(Omnibus):                  0.000   Jarque-Bera (JB):               83.862\n",
      "Skew:                          -0.227   Prob(JB):                     6.16e-19\n",
      "Kurtosis:                       4.395   Cond. No.                         422.\n",
      "==============================================================================\n",
      "\n",
      "Warnings:\n",
      "[1] Standard Errors assume that the covariance matrix of the errors is correctly specified.\n"
     ]
    }
   ],
   "source": [
    "formula = '''lwage ~ educ + exper + tenure + married + black + south + urban + educ:black'''\n",
    "#model = ols(formula, df1).fit(cov_type='HC0')\n",
    "model = ols(formula, df1)\n",
    "results = model.fit()\n",
    "#aov_table = statsmodels.stats.anova.anova_lm(results, typ=2)\n",
    "#print(aov_table)\n",
    "print(results.summary())"
   ]
  },
  {
   "cell_type": "markdown",
   "metadata": {},
   "source": [
    "## Exercise iv:\n",
    "### Estimate: $lwage = \\alpha + \\beta_{1} educ + \\beta_{2} exper + \\beta_{3} tenure + \\beta_{4} married \\times black + \\beta_{5} single \\times black + \\beta_{6} single \\times nonblack + \\beta_{7} south + \\beta_{8} urban + \\mu$\n",
    "#### Note how we carefully choose our baseline group to be Married NonBlack in the formula statement below allowing us to directly derive estimates and t-stats."
   ]
  },
  {
   "cell_type": "code",
   "execution_count": 15,
   "metadata": {},
   "outputs": [
    {
     "name": "stdout",
     "output_type": "stream",
     "text": [
      "                            OLS Regression Results                            \n",
      "==============================================================================\n",
      "Dep. Variable:                  lwage   R-squared:                       0.253\n",
      "Model:                            OLS   Adj. R-squared:                  0.246\n",
      "Method:                 Least Squares   F-statistic:                     39.17\n",
      "Date:                Sun, 08 Mar 2020   Prob (F-statistic):           6.78e-54\n",
      "Time:                        13:35:23   Log-Likelihood:                -381.37\n",
      "No. Observations:                 935   AIC:                             780.7\n",
      "Df Residuals:                     926   BIC:                             824.3\n",
      "Df Model:                           8                                         \n",
      "Covariance Type:            nonrobust                                         \n",
      "===================================================================================\n",
      "                      coef    std err          t      P>|t|      [0.025      0.975]\n",
      "-----------------------------------------------------------------------------------\n",
      "Intercept           5.5927      0.108     51.616      0.000       5.380       5.805\n",
      "educ                0.0655      0.006     10.471      0.000       0.053       0.078\n",
      "exper               0.0141      0.003      4.433      0.000       0.008       0.020\n",
      "tenure              0.0117      0.002      4.745      0.000       0.007       0.016\n",
      "married:black      -0.1795      0.041     -4.427      0.000      -0.259      -0.100\n",
      "single:black       -0.4297      0.088     -4.881      0.000      -0.603      -0.257\n",
      "single:nonblack    -0.1889      0.043     -4.406      0.000      -0.273      -0.105\n",
      "south              -0.0920      0.026     -3.495      0.000      -0.144      -0.040\n",
      "urban               0.1844      0.027      6.833      0.000       0.131       0.237\n",
      "==============================================================================\n",
      "Omnibus:                       38.572   Durbin-Watson:                   1.824\n",
      "Prob(Omnibus):                  0.000   Jarque-Bera (JB):               84.151\n",
      "Skew:                          -0.227   Prob(JB):                     5.33e-19\n",
      "Kurtosis:                       4.398   Cond. No.                         178.\n",
      "==============================================================================\n",
      "\n",
      "Warnings:\n",
      "[1] Standard Errors assume that the covariance matrix of the errors is correctly specified.\n"
     ]
    }
   ],
   "source": [
    "df1.loc[df1['married'] == 1, 'single'] = 0\n",
    "df1.loc[df1['married'] == 0, 'single'] = 1\n",
    "df1.loc[df1['black'] == 1, 'nonblack'] = 0\n",
    "df1.loc[df1['black'] == 0, 'nonblack'] = 1\n",
    "\n",
    "formula = '''lwage ~ educ + exper + tenure + married:black + single:black + single:nonblack + south + urban '''\n",
    "#model = ols(formula, df1).fit(cov_type='HC0')\n",
    "model = ols(formula, df1)\n",
    "results = model.fit()\n",
    "#aov_table = statsmodels.stats.anova.anova_lm(results, typ=2)\n",
    "#print(aov_table)\n",
    "print(results.summary())"
   ]
  },
  {
   "cell_type": "code",
   "execution_count": null,
   "metadata": {
    "collapsed": true
   },
   "outputs": [],
   "source": []
  }
 ],
 "metadata": {
  "kernelspec": {
   "display_name": "Python 3",
   "language": "python",
   "name": "python3"
  },
  "language_info": {
   "codemirror_mode": {
    "name": "ipython",
    "version": 3
   },
   "file_extension": ".py",
   "mimetype": "text/x-python",
   "name": "python",
   "nbconvert_exporter": "python",
   "pygments_lexer": "ipython3",
   "version": "3.7.4"
  }
 },
 "nbformat": 4,
 "nbformat_minor": 2
}
