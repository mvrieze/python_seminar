{
 "cells": [
  {
   "cell_type": "markdown",
   "metadata": {},
   "source": [
    "# OLS - Wooldridge Computer Exercise\n",
    "## Chapter 6, Exercise 2"
   ]
  },
  {
   "cell_type": "markdown",
   "metadata": {},
   "source": [
    "## To add a heading:\n",
    "- Insert a new cell\n",
    "- Type or paste-in content\n",
    "- Place a single / just one \"pound-sign\" in front of the heading content\n",
    "- Select \"Markdown\"\n",
    "- Press \"Shift\", \"Enter\" at same time to convert to clean commentary"
   ]
  },
  {
   "cell_type": "markdown",
   "metadata": {},
   "source": [
    "## To add a sub-heading:\n",
    "- Insert a new cell\n",
    "- Type or paste-in content\n",
    "- Place two \"pound-signs\" in front of the sub-heading\n",
    "- Select \"Markdown\"\n",
    "- Press \"Shift\", \"Enter\" at same time to convert to clean commentary"
   ]
  },
  {
   "cell_type": "markdown",
   "metadata": {},
   "source": [
    "## To add new bulleted documentation:\n",
    "\n",
    "- Insert a new cell\n",
    "- Type or paste-in content\n",
    "- Place a \"dash\" character in front of the bulleted content\n",
    "- Select \"Markdown\"\n",
    "- Press \"Shift\", \"Enter\" at same time to convert to clean commentary"
   ]
  },
  {
   "cell_type": "markdown",
   "metadata": {},
   "source": [
    "# References\n",
    "- Wooldridge, J.M. (2016). Introductory econometrics: A modern approach (6thed.). Mason, OH: South-Western, Cengage Learning.\n",
    "- Residual Plots: https://medium.com/@emredjan/emulating-r-regression-plots-in-python-43741952c034\n",
    "- Understanding residual plots: https://data.library.virginia.edu/diagnostic-plots/\n",
    "- VIF: https://etav.github.io/python/vif_factor_python.html\n",
    "- VIF: https://en.wikipedia.org/wiki/Variance_inflation_factor\n",
    "- Extracting various values from regression results: https://www.statsmodels.org/dev/generated/statsmodels.regression.linear_model.RegressionResults.html"
   ]
  },
  {
   "cell_type": "markdown",
   "metadata": {},
   "source": [
    "# Instantiate libraries"
   ]
  },
  {
   "cell_type": "code",
   "execution_count": 1,
   "metadata": {},
   "outputs": [],
   "source": [
    "import pandas as pd\n",
    "import numpy as np\n",
    "import matplotlib.pyplot as plt\n",
    "import seaborn as sns\n",
    "%matplotlib inline\n",
    "\n",
    "import statsmodels\n",
    "import statsmodels.api as sm\n",
    "import statsmodels.stats.api as sms\n",
    "\n",
    "from statsmodels.formula.api import ols\n",
    "from statsmodels.compat import lzip\n",
    "from patsy import dmatrices\n",
    "from statsmodels.stats.outliers_influence import variance_inflation_factor\n",
    "\n",
    "from statsmodels.graphics.gofplots import ProbPlot\n",
    "\n",
    "#import pandas.tseries.api as sm\n",
    "#from tseries.formula.apt import ols\n",
    "\n",
    "from scipy.stats import ttest_ind, ttest_ind_from_stats\n",
    "from scipy.special import stdtr\n",
    "\n",
    "\n",
    "plt.style.use('seaborn') # pretty matplotlib plots\n",
    "\n",
    "plt.rc('font', size=14)\n",
    "plt.rc('figure', titlesize=18)\n",
    "plt.rc('axes', labelsize=15)\n",
    "plt.rc('axes', titlesize=18)\n",
    "\n",
    "# Latex markup language \n",
    "from IPython.display import Latex"
   ]
  },
  {
   "cell_type": "markdown",
   "metadata": {},
   "source": [
    "# Data Read from csv"
   ]
  },
  {
   "cell_type": "code",
   "execution_count": 2,
   "metadata": {},
   "outputs": [
    {
     "name": "stdout",
     "output_type": "stream",
     "text": [
      "   wage  educ  exper  tenure  nonwhite  female  married  numdep  smsa  \\\n",
      "0  3.10    11      2       0         0       1        0       2     1   \n",
      "1  3.24    12     22       2         0       1        1       3     1   \n",
      "2  3.00    11      2       0         0       0        0       2     0   \n",
      "3  6.00     8     44      28         0       0        1       0     1   \n",
      "4  5.30    12      7       2         0       0        1       1     0   \n",
      "\n",
      "   northcen  ...  trcommpu  trade  services  profserv  profocc  clerocc  \\\n",
      "0         0  ...         0      0         0         0        0        0   \n",
      "1         0  ...         0      0         1         0        0        0   \n",
      "2         0  ...         0      1         0         0        0        0   \n",
      "3         0  ...         0      0         0         0        0        1   \n",
      "4         0  ...         0      0         0         0        0        0   \n",
      "\n",
      "   servocc     lwage  expersq  tenursq  \n",
      "0        0  1.131402        4        0  \n",
      "1        1  1.175573      484        4  \n",
      "2        0  1.098612        4        0  \n",
      "3        0  1.791759     1936      784  \n",
      "4        0  1.667707       49        4  \n",
      "\n",
      "[5 rows x 24 columns]\n",
      "Wall time: 54.9 ms\n"
     ]
    }
   ],
   "source": [
    "%%time\n",
    "#df = pd.read_csv(BytesIO(csv_as_bytes),sep='|',nrows=100000)\n",
    "df1 = pd.read_stata('C://Users//mvrie//Downloads//firepit-master//WAGE1.dta')\n",
    "print(df1.head())"
   ]
  },
  {
   "cell_type": "code",
   "execution_count": 3,
   "metadata": {},
   "outputs": [],
   "source": [
    "df1['constant'] = 1"
   ]
  },
  {
   "cell_type": "markdown",
   "metadata": {},
   "source": [
    "# Data Checks\n",
    "- Columns"
   ]
  },
  {
   "cell_type": "code",
   "execution_count": 4,
   "metadata": {},
   "outputs": [
    {
     "name": "stdout",
     "output_type": "stream",
     "text": [
      "<class 'pandas.core.frame.DataFrame'>\n",
      "Int64Index: 526 entries, 0 to 525\n",
      "Data columns (total 25 columns):\n",
      "wage        526 non-null float32\n",
      "educ        526 non-null int8\n",
      "exper       526 non-null int8\n",
      "tenure      526 non-null int8\n",
      "nonwhite    526 non-null int8\n",
      "female      526 non-null int8\n",
      "married     526 non-null int8\n",
      "numdep      526 non-null int8\n",
      "smsa        526 non-null int8\n",
      "northcen    526 non-null int8\n",
      "south       526 non-null int8\n",
      "west        526 non-null int8\n",
      "construc    526 non-null int8\n",
      "ndurman     526 non-null int8\n",
      "trcommpu    526 non-null int8\n",
      "trade       526 non-null int8\n",
      "services    526 non-null int8\n",
      "profserv    526 non-null int8\n",
      "profocc     526 non-null int8\n",
      "clerocc     526 non-null int8\n",
      "servocc     526 non-null int8\n",
      "lwage       526 non-null float32\n",
      "expersq     526 non-null int16\n",
      "tenursq     526 non-null int16\n",
      "constant    526 non-null int64\n",
      "dtypes: float32(2), int16(2), int64(1), int8(20)\n",
      "memory usage: 24.7 KB\n",
      "Wall time: 49 ms\n"
     ]
    }
   ],
   "source": [
    "%%time\n",
    "df1.info()"
   ]
  },
  {
   "cell_type": "markdown",
   "metadata": {},
   "source": [
    "# Estimate: $lwage = \\alpha + \\beta_{1}educ + \\beta_{2}exper + \\beta_{3}exper^2 + \\mu$ "
   ]
  },
  {
   "cell_type": "code",
   "execution_count": 5,
   "metadata": {},
   "outputs": [
    {
     "name": "stdout",
     "output_type": "stream",
     "text": [
      "              sum_sq     df           F        PR(>F)\n",
      "educ       29.112999    1.0  146.419982  6.979375e-30\n",
      "exper      12.382757    1.0   62.277440  1.765073e-14\n",
      "expersq     7.554332    1.0   37.993513  1.421176e-09\n",
      "Residual  103.790380  522.0         NaN           NaN\n",
      "                            OLS Regression Results                            \n",
      "==============================================================================\n",
      "Dep. Variable:                  lwage   R-squared:                       0.300\n",
      "Model:                            OLS   Adj. R-squared:                  0.296\n",
      "Method:                 Least Squares   F-statistic:                     74.67\n",
      "Date:                Sun, 23 Feb 2020   Prob (F-statistic):           3.38e-40\n",
      "Time:                        10:03:16   Log-Likelihood:                -319.53\n",
      "No. Observations:                 526   AIC:                             647.1\n",
      "Df Residuals:                     522   BIC:                             664.1\n",
      "Df Model:                           3                                         \n",
      "Covariance Type:            nonrobust                                         \n",
      "==============================================================================\n",
      "                 coef    std err          t      P>|t|      [0.025      0.975]\n",
      "------------------------------------------------------------------------------\n",
      "Intercept      0.1280      0.106      1.208      0.227      -0.080       0.336\n",
      "educ           0.0904      0.007     12.100      0.000       0.076       0.105\n",
      "exper          0.0410      0.005      7.892      0.000       0.031       0.051\n",
      "expersq       -0.0007      0.000     -6.164      0.000      -0.001      -0.000\n",
      "==============================================================================\n",
      "Omnibus:                        5.379   Durbin-Watson:                   1.785\n",
      "Prob(Omnibus):                  0.068   Jarque-Bera (JB):                7.152\n",
      "Skew:                           0.028   Prob(JB):                       0.0280\n",
      "Kurtosis:                       3.568   Cond. No.                     4.24e+03\n",
      "==============================================================================\n",
      "\n",
      "Warnings:\n",
      "[1] Standard Errors assume that the covariance matrix of the errors is correctly specified.\n",
      "[2] The condition number is large, 4.24e+03. This might indicate that there are\n",
      "strong multicollinearity or other numerical problems.\n"
     ]
    }
   ],
   "source": [
    "formula = '''lwage ~ educ + exper + expersq\n",
    "'''\n",
    "#model = ols(formula, df).fit(cov_type='HC0')\n",
    "model = ols(formula, df1)\n",
    "results = model.fit()\n",
    "aov_table = statsmodels.stats.anova.anova_lm(results, typ=2)\n",
    "print(aov_table)\n",
    "print(results.summary())"
   ]
  },
  {
   "cell_type": "markdown",
   "metadata": {},
   "source": [
    "## Return on education for years of experience\n",
    "## $ \\% \\Delta \\hat Wage = 100(\\hat \\beta_{2} + 2\\hat \\beta_{3} exper)\\Delta exper$"
   ]
  },
  {
   "cell_type": "code",
   "execution_count": 6,
   "metadata": {},
   "outputs": [
    {
     "name": "stdout",
     "output_type": "stream",
     "text": [
      "Intercept    0.127998\n",
      "educ         0.090366\n",
      "exper        0.041009\n",
      "expersq     -0.000714\n",
      "dtype: float64\n",
      "0.09036581699551188\n",
      "0.041008875486625754\n",
      "-0.0007135581589297853\n",
      " \n",
      "Return to a 5th year of experience\n",
      "3.38732938973279\n",
      " \n",
      "Return to a 20th year of experience\n",
      "1.246654912943434\n",
      " \n",
      "Inflection point\n",
      "0.10496185865577767\n",
      "-0.03774977313017944\n",
      " \n",
      "Precise inflection point\n",
      "-28.735482156165112\n"
     ]
    }
   ],
   "source": [
    "coef = results.params\n",
    "print(coef)\n",
    "educ = coef.educ\n",
    "exper = coef.exper\n",
    "expersq = coef.expersq\n",
    "print(educ)\n",
    "print(exper)\n",
    "print(expersq)\n",
    "\n",
    "#Return on experience\n",
    "def ret_exper(experience,incremental_experience):\n",
    "    rtrn = 100*(exper+(2*expersq*experience))*incremental_experience\n",
    "    print(rtrn)\n",
    "\n",
    "#Inflection Point\n",
    "def inflect(x,x_sq):\n",
    "    inflct = x/(2*x_sq)\n",
    "    print(inflct)\n",
    "\n",
    "\n",
    "print(' ')\n",
    "print('Return to a 5th year of experience')\n",
    "ret_exper(5,1)\n",
    "print(' ')\n",
    "print('Return to a 20th year of experience')\n",
    "ret_exper(20,1)\n",
    "\n",
    "print(' ')\n",
    "print('Inflection point')\n",
    "ret_exper(28,1)\n",
    "ret_exper(29,1)\n",
    "\n",
    "print(' ')\n",
    "print('Precise inflection point')\n",
    "inflect(exper,expersq)"
   ]
  },
  {
   "cell_type": "markdown",
   "metadata": {},
   "source": [
    "## Inflection Point\n",
    "- Where returns on education per years of experience turn negative"
   ]
  },
  {
   "cell_type": "code",
   "execution_count": 7,
   "metadata": {},
   "outputs": [
    {
     "name": "stdout",
     "output_type": "stream",
     "text": [
      "28.735482156165112\n"
     ]
    }
   ],
   "source": [
    "inflection = np.abs(exper / (2*expersq))\n",
    "print(inflection)"
   ]
  },
  {
   "cell_type": "markdown",
   "metadata": {},
   "source": [
    "## How many people have more than this many years experience?"
   ]
  },
  {
   "cell_type": "code",
   "execution_count": 8,
   "metadata": {},
   "outputs": [
    {
     "name": "stdout",
     "output_type": "stream",
     "text": [
      "The number of people with over 28 years experience is: 121\n"
     ]
    }
   ],
   "source": [
    "df2 = df1[df1['exper'] > 28]\n",
    "people = np.sum(df2.constant)\n",
    "print('The number of people with over 28 years experience is: ' + str(people))"
   ]
  },
  {
   "cell_type": "markdown",
   "metadata": {},
   "source": [
    "## Lets plot the polynomial"
   ]
  },
  {
   "cell_type": "code",
   "execution_count": 119,
   "metadata": {},
   "outputs": [],
   "source": [
    "#Return on experience\n",
    "def ret_exper2():\n",
    "    for i in range(40):\n",
    "        data = {'retexper' : (100*(exper+(2*expersq*i))*1) }\n",
    "        #print(data)\n",
    "        df_i = pd.DataFrame(data, index = [i]) \n",
    "        #print(df_i)\n",
    "        if i == 0:\n",
    "            df_return = df_i\n",
    "        else:\n",
    "            df_return = pd.concat([df_return,df_i])\n",
    "    #print(df_return)\n",
    "    x = pd.Series(df_return.index)\n",
    "    y = pd.Series(df_return['retexper'])\n",
    "    fig = plt.figure()\n",
    "    ax = plt.axes()\n",
    "    ax.plot(x,y);\n",
    "    ax.set(title='Return on Wages by Years of Experience', xlabel='years of experience', ylabel='return to wages')\n",
    "    ax.annotate('negative return inflection point', xy=(28.7, 0), xytext=(15, 3),\n",
    "            arrowprops=dict(arrowstyle=\"->\",\n",
    "                            connectionstyle=\"angle3,angleA=0,angleB=-90\"));"
   ]
  },
  {
   "cell_type": "code",
   "execution_count": 120,
   "metadata": {},
   "outputs": [
    {
     "name": "stdout",
     "output_type": "stream",
     "text": [
      "    retexper\n",
      "0   4.100888\n",
      "1   3.958176\n",
      "2   3.815464\n",
      "3   3.672753\n",
      "4   3.530041\n",
      "5   3.387329\n",
      "6   3.244618\n",
      "7   3.101906\n",
      "8   2.959194\n",
      "9   2.816483\n",
      "10  2.673771\n",
      "11  2.531060\n",
      "12  2.388348\n",
      "13  2.245636\n",
      "14  2.102925\n",
      "15  1.960213\n",
      "16  1.817501\n",
      "17  1.674790\n",
      "18  1.532078\n",
      "19  1.389367\n",
      "20  1.246655\n",
      "21  1.103943\n",
      "22  0.961232\n",
      "23  0.818520\n",
      "24  0.675808\n",
      "25  0.533097\n",
      "26  0.390385\n",
      "27  0.247673\n",
      "28  0.104962\n",
      "29 -0.037750\n",
      "30 -0.180461\n",
      "31 -0.323173\n",
      "32 -0.465885\n",
      "33 -0.608596\n",
      "34 -0.751308\n",
      "35 -0.894020\n",
      "36 -1.036731\n",
      "37 -1.179443\n",
      "38 -1.322154\n",
      "39 -1.464866\n",
      "     retexper\n",
      "0    4.100888\n",
      "1    8.059063\n",
      "2   11.874528\n",
      "3   15.547280\n",
      "4   19.077321\n",
      "5   22.464651\n",
      "6   25.709269\n",
      "7   28.811175\n",
      "8   31.770369\n",
      "9   34.586852\n",
      "10  37.260623\n",
      "11  39.791683\n",
      "12  42.180031\n",
      "13  44.425667\n",
      "14  46.528592\n",
      "15  48.488805\n",
      "16  50.306306\n",
      "17  51.981096\n",
      "18  53.513174\n",
      "19  54.902541\n",
      "20  56.149196\n",
      "21  57.253139\n",
      "22  58.214371\n",
      "23  59.032891\n",
      "24  59.708699\n",
      "25  60.241796\n",
      "26  60.632181\n",
      "27  60.879855\n",
      "28  60.984816\n",
      "29  60.947067\n",
      "30  60.766605\n",
      "31  60.443432\n",
      "32  59.977548\n",
      "33  59.368951\n",
      "34  58.617643\n",
      "35  57.723624\n",
      "36  56.686893\n",
      "37  55.507450\n",
      "38  54.185295\n",
      "39  52.720429\n"
     ]
    },
    {
     "data": {
      "image/png": "[encoded data removed]",
      "text/plain": [
       "<Figure size 432x288 with 1 Axes>"
      ]
     },
     "metadata": {
      "needs_background": "light"
     },
     "output_type": "display_data"
    }
   ],
   "source": [
    "ret_exper2()"
   ]
  },
  {
   "cell_type": "code",
   "execution_count": 130,
   "metadata": {},
   "outputs": [],
   "source": [
    "#Return on experience\n",
    "def ret_exper3():\n",
    "    for i in range(40):\n",
    "        data = {'retexper' : (100*(exper+(2*expersq*i))*1) }\n",
    "        #print(data)\n",
    "        df_i = pd.DataFrame(data, index = [i]) \n",
    "        #print(df_i)\n",
    "        if i == 0:\n",
    "            df_return = df_i\n",
    "        else:\n",
    "            df_return = pd.concat([df_return,df_i])\n",
    "    df_cume = df_return.cumsum()\n",
    "    print(df_cume)\n",
    "    x = pd.Series(df_cume.index)\n",
    "    y = pd.Series(df_cume['retexper'])\n",
    "    fig = plt.figure()\n",
    "    ax = plt.axes()\n",
    "    ax.plot(x,y);\n",
    "    ax.set(title='Cumulative Return on Wages by Years of Experience', xlabel='years of experience', ylabel='cumulative return to wages')\n",
    "    ax.annotate('negative return inflection point', xy=(28.7, 60.98), xytext=(10, 20),\n",
    "            arrowprops=dict(arrowstyle=\"->\",\n",
    "                            connectionstyle=\"angle3,angleA=0,angleB=-90\"));"
   ]
  },
  {
   "cell_type": "code",
   "execution_count": 131,
   "metadata": {},
   "outputs": [
    {
     "name": "stdout",
     "output_type": "stream",
     "text": [
      "     retexper\n",
      "0    4.100888\n",
      "1    8.059063\n",
      "2   11.874528\n",
      "3   15.547280\n",
      "4   19.077321\n",
      "5   22.464651\n",
      "6   25.709269\n",
      "7   28.811175\n",
      "8   31.770369\n",
      "9   34.586852\n",
      "10  37.260623\n",
      "11  39.791683\n",
      "12  42.180031\n",
      "13  44.425667\n",
      "14  46.528592\n",
      "15  48.488805\n",
      "16  50.306306\n",
      "17  51.981096\n",
      "18  53.513174\n",
      "19  54.902541\n",
      "20  56.149196\n",
      "21  57.253139\n",
      "22  58.214371\n",
      "23  59.032891\n",
      "24  59.708699\n",
      "25  60.241796\n",
      "26  60.632181\n",
      "27  60.879855\n",
      "28  60.984816\n",
      "29  60.947067\n",
      "30  60.766605\n",
      "31  60.443432\n",
      "32  59.977548\n",
      "33  59.368951\n",
      "34  58.617643\n",
      "35  57.723624\n",
      "36  56.686893\n",
      "37  55.507450\n",
      "38  54.185295\n",
      "39  52.720429\n"
     ]
    },
    {
     "data": {
      "image/png": "[encoded data removed]",
      "text/plain": [
       "<Figure size 432x288 with 1 Axes>"
      ]
     },
     "metadata": {
      "needs_background": "light"
     },
     "output_type": "display_data"
    }
   ],
   "source": [
    "ret_exper3()"
   ]
  },
  {
   "cell_type": "code",
   "execution_count": null,
   "metadata": {},
   "outputs": [],
   "source": []
  }
 ],
 "metadata": {
  "kernelspec": {
   "display_name": "Python 3",
   "language": "python",
   "name": "python3"
  },
  "language_info": {
   "codemirror_mode": {
    "name": "ipython",
    "version": 3
   },
   "file_extension": ".py",
   "mimetype": "text/x-python",
   "name": "python",
   "nbconvert_exporter": "python",
   "pygments_lexer": "ipython3",
   "version": "3.7.4"
  }
 },
 "nbformat": 4,
 "nbformat_minor": 2
}
