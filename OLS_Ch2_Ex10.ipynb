{
 "cells": [
  {
   "cell_type": "markdown",
   "metadata": {},
   "source": [
    "# OLS - Wooldridge Computer Exercise\n",
    "## Chapter 2, Exercise 9"
   ]
  },
  {
   "cell_type": "markdown",
   "metadata": {},
   "source": [
    "## To add a heading:\n",
    "- Insert a new cell\n",
    "- Type or paste-in content\n",
    "- Place a single / just one \"pound-sign\" in front of the heading content\n",
    "- Select \"Markdown\"\n",
    "- Press \"Shift\", \"Enter\" at same time to convert to clean commentary"
   ]
  },
  {
   "cell_type": "markdown",
   "metadata": {},
   "source": [
    "## To add a sub-heading:\n",
    "- Insert a new cell\n",
    "- Type or paste-in content\n",
    "- Place two \"pound-signs\" in front of the sub-heading\n",
    "- Select \"Markdown\"\n",
    "- Press \"Shift\", \"Enter\" at same time to convert to clean commentary"
   ]
  },
  {
   "cell_type": "markdown",
   "metadata": {},
   "source": [
    "## To add new bulleted documentation:\n",
    "\n",
    "- Insert a new cell\n",
    "- Type or paste-in content\n",
    "- Place a \"dash\" character in front of the bulleted content\n",
    "- Select \"Markdown\"\n",
    "- Press \"Shift\", \"Enter\" at same time to convert to clean commentary"
   ]
  },
  {
   "cell_type": "markdown",
   "metadata": {},
   "source": [
    "# References\n",
    "- Wooldridge, J.M. (2016). Introductory econometrics: A modern approach (6thed.). Mason, OH: South-Western, Cengage Learning.\n",
    "- Residual Plots: https://medium.com/@emredjan/emulating-r-regression-plots-in-python-43741952c034\n",
    "- Understanding residual plots: https://data.library.virginia.edu/diagnostic-plots/"
   ]
  },
  {
   "cell_type": "markdown",
   "metadata": {},
   "source": [
    "# Instantiate libraries"
   ]
  },
  {
   "cell_type": "code",
   "execution_count": 1,
   "metadata": {
    "collapsed": true
   },
   "outputs": [],
   "source": [
    "import pandas as pd\n",
    "import numpy as np\n",
    "import matplotlib.pyplot as plt\n",
    "import seaborn as sns\n",
    "%matplotlib inline\n",
    "\n",
    "import statsmodels\n",
    "import statsmodels.api as sm\n",
    "import statsmodels.stats.api as sms\n",
    "\n",
    "from statsmodels.formula.api import ols\n",
    "from statsmodels.compat import lzip\n",
    "\n",
    "from statsmodels.graphics.gofplots import ProbPlot\n",
    "\n",
    "#import pandas.tseries.api as sm\n",
    "#from tseries.formula.apt import ols\n",
    "\n",
    "from scipy.stats import ttest_ind, ttest_ind_from_stats\n",
    "from scipy.special import stdtr\n",
    "\n",
    "\n",
    "plt.style.use('seaborn') # pretty matplotlib plots\n",
    "\n",
    "plt.rc('font', size=14)\n",
    "plt.rc('figure', titlesize=18)\n",
    "plt.rc('axes', labelsize=15)\n",
    "plt.rc('axes', titlesize=18)\n",
    "\n",
    "# Latex markup language \n",
    "from IPython.display import Latex\n"
   ]
  },
  {
   "cell_type": "markdown",
   "metadata": {},
   "source": [
    "# Data Read from csv"
   ]
  },
  {
   "cell_type": "code",
   "execution_count": 2,
   "metadata": {
    "collapsed": false
   },
   "outputs": [
    {
     "name": "stdout",
     "output_type": "stream",
     "text": [
      "         id     read12     math12  female  asian  hispan  black  motheduc  \\\n",
      "0  124902.0  61.410000  49.770000       0      0       0      0      14.0   \n",
      "1  124915.0  58.340000  59.840000       0      0       0      0      14.0   \n",
      "2  124916.0  59.330002  50.380001       1      0       0      0      14.0   \n",
      "3  124932.0  49.590000  45.029999       1      0       0      0      12.0   \n",
      "4  124944.0  57.619999  54.259998       1      0       0      0      12.0   \n",
      "\n",
      "   fatheduc    lfaminc  hsgrad  cathhs  parcath  \n",
      "0      12.0  10.308952     1.0       0        1  \n",
      "1      14.0  10.308952     1.0       0        1  \n",
      "2      11.0  10.308952     1.0       0        1  \n",
      "3      14.0  10.308952     1.0       0        1  \n",
      "4      12.0  10.657259     1.0       0        1  \n",
      "Wall time: 110 ms\n"
     ]
    }
   ],
   "source": [
    "%%time\n",
    "#df = pd.read_csv(BytesIO(csv_as_bytes),sep='|',nrows=100000)\n",
    "df1 = pd.read_stata('C://Users//Family//Documents//DataSetEconomics//Wooldridge//catholic.dta')\n",
    "print(df1.head())"
   ]
  },
  {
   "cell_type": "code",
   "execution_count": 3,
   "metadata": {
    "collapsed": true
   },
   "outputs": [],
   "source": [
    "df1['constant'] = 1"
   ]
  },
  {
   "cell_type": "markdown",
   "metadata": {},
   "source": [
    "# Data Checks\n",
    "- Columns"
   ]
  },
  {
   "cell_type": "code",
   "execution_count": 4,
   "metadata": {
    "collapsed": false
   },
   "outputs": [
    {
     "name": "stdout",
     "output_type": "stream",
     "text": [
      "<class 'pandas.core.frame.DataFrame'>\n",
      "Int64Index: 7430 entries, 0 to 7429\n",
      "Data columns (total 14 columns):\n",
      "id          7430 non-null float32\n",
      "read12      7430 non-null float32\n",
      "math12      7430 non-null float32\n",
      "female      7430 non-null int8\n",
      "asian       7430 non-null int8\n",
      "hispan      7430 non-null int8\n",
      "black       7430 non-null int8\n",
      "motheduc    7430 non-null float32\n",
      "fatheduc    7430 non-null float32\n",
      "lfaminc     7430 non-null float32\n",
      "hsgrad      5970 non-null float64\n",
      "cathhs      7430 non-null int8\n",
      "parcath     7430 non-null int8\n",
      "constant    7430 non-null int64\n",
      "dtypes: float32(6), float64(1), int64(1), int8(6)\n",
      "memory usage: 391.8 KB\n",
      "Wall time: 14 ms\n"
     ]
    }
   ],
   "source": [
    "%%time\n",
    "df1.info()"
   ]
  },
  {
   "cell_type": "code",
   "execution_count": null,
   "metadata": {
    "collapsed": true
   },
   "outputs": [],
   "source": [
    "# i. How many students are in the sample? Find the mean / standard deviations of math12 and read12."
   ]
  },
  {
   "cell_type": "code",
   "execution_count": 12,
   "metadata": {
    "collapsed": false
   },
   "outputs": [
    {
     "name": "stdout",
     "output_type": "stream",
     "text": [
      "Number of students in the sample:\n",
      "7430\n",
      "\n",
      "Mean of math12\n",
      "52.133609771728516\n",
      "\n",
      "Std Deviation of math12\n",
      "9.458475112915039\n",
      "\n",
      "Mean of read12\n",
      "51.77239227294922\n",
      "\n",
      "Std Deviation of read12\n",
      "9.40711784362793\n"
     ]
    }
   ],
   "source": [
    "print('Number of students in the sample:')\n",
    "count_students = np.sum(df1['constant'])\n",
    "print(count_students)\n",
    "print()\n",
    "\n",
    "print('Mean of math12')\n",
    "mean_math12 = np.mean(df1['math12'])\n",
    "print(mean_math12)\n",
    "print()\n",
    "\n",
    "print('Std Deviation of math12')\n",
    "std_math12 = np.std(df1['math12'])\n",
    "print(std_math12)\n",
    "print()\n",
    "\n",
    "print('Mean of read12')\n",
    "mean_read12 = np.mean(df1['read12'])\n",
    "print(mean_read12)\n",
    "print()\n",
    "\n",
    "print('Std Deviation of read12')\n",
    "std_read12 = np.std(df1['read12'])\n",
    "print(std_read12)\n"
   ]
  },
  {
   "cell_type": "markdown",
   "metadata": {},
   "source": [
    "### ii. Estimate The Equation: $math12 = \\beta_{0} + \\beta_{1} read12 + \\mu$"
   ]
  },
  {
   "cell_type": "code",
   "execution_count": 14,
   "metadata": {
    "collapsed": false
   },
   "outputs": [
    {
     "name": "stdout",
     "output_type": "stream",
     "text": [
      "                 sum_sq      df            F  PR(>F)\n",
      "read12    335470.111083     1.0  7568.582389     0.0\n",
      "Residual  329238.932350  7428.0          NaN     NaN\n",
      "                            OLS Regression Results                            \n",
      "==============================================================================\n",
      "Dep. Variable:                 math12   R-squared:                       0.505\n",
      "Model:                            OLS   Adj. R-squared:                  0.505\n",
      "Method:                 Least Squares   F-statistic:                     7569.\n",
      "Date:                Tue, 01 Jan 2019   Prob (F-statistic):               0.00\n",
      "Time:                        18:59:01   Log-Likelihood:                -24627.\n",
      "No. Observations:                7430   AIC:                         4.926e+04\n",
      "Df Residuals:                    7428   BIC:                         4.927e+04\n",
      "Df Model:                           1                                         \n",
      "Covariance Type:            nonrobust                                         \n",
      "==============================================================================\n",
      "                 coef    std err          t      P>|t|      [0.025      0.975]\n",
      "------------------------------------------------------------------------------\n",
      "Intercept     15.1530      0.432     35.074      0.000      14.306      16.000\n",
      "read12         0.7143      0.008     86.998      0.000       0.698       0.730\n",
      "==============================================================================\n",
      "Omnibus:                        7.488   Durbin-Watson:                   1.881\n",
      "Prob(Omnibus):                  0.024   Jarque-Bera (JB):                7.481\n",
      "Skew:                          -0.069   Prob(JB):                       0.0237\n",
      "Kurtosis:                       2.930   Cond. No.                         294.\n",
      "==============================================================================\n",
      "\n",
      "Warnings:\n",
      "[1] Standard Errors assume that the covariance matrix of the errors is correctly specified.\n"
     ]
    }
   ],
   "source": [
    "formula = '''math12 ~ read12\n",
    "'''\n",
    "#model = ols(formula, df).fit(cov_type='HC0')\n",
    "model = ols(formula, df1)\n",
    "results = model.fit()\n",
    "aov_table = statsmodels.stats.anova.anova_lm(results, typ=2)\n",
    "print(aov_table)\n",
    "print(results.summary())"
   ]
  },
  {
   "cell_type": "markdown",
   "metadata": {},
   "source": [
    "### ii. Estimate The Equation: $read12 = \\beta_{0} + \\beta_{1} math12 + \\mu$"
   ]
  },
  {
   "cell_type": "code",
   "execution_count": 16,
   "metadata": {
    "collapsed": false
   },
   "outputs": [
    {
     "name": "stdout",
     "output_type": "stream",
     "text": [
      "                 sum_sq      df            F  PR(>F)\n",
      "math12    331837.260642     1.0  7568.582389     0.0\n",
      "Residual  325673.560173  7428.0          NaN     NaN\n",
      "                            OLS Regression Results                            \n",
      "==============================================================================\n",
      "Dep. Variable:                 read12   R-squared:                       0.505\n",
      "Model:                            OLS   Adj. R-squared:                  0.505\n",
      "Method:                 Least Squares   F-statistic:                     7569.\n",
      "Date:                Tue, 01 Jan 2019   Prob (F-statistic):               0.00\n",
      "Time:                        19:00:26   Log-Likelihood:                -24587.\n",
      "No. Observations:                7430   AIC:                         4.918e+04\n",
      "Df Residuals:                    7428   BIC:                         4.919e+04\n",
      "Df Model:                           1                                         \n",
      "Covariance Type:            nonrobust                                         \n",
      "==============================================================================\n",
      "                 coef    std err          t      P>|t|      [0.025      0.975]\n",
      "------------------------------------------------------------------------------\n",
      "Intercept     14.9371      0.430     34.712      0.000      14.094      15.781\n",
      "math12         0.7066      0.008     86.998      0.000       0.691       0.722\n",
      "==============================================================================\n",
      "Omnibus:                      109.175   Durbin-Watson:                   1.934\n",
      "Prob(Omnibus):                  0.000   Jarque-Bera (JB):              114.950\n",
      "Skew:                          -0.286   Prob(JB):                     1.09e-25\n",
      "Kurtosis:                       3.209   Cond. No.                         297.\n",
      "==============================================================================\n",
      "\n",
      "Warnings:\n",
      "[1] Standard Errors assume that the covariance matrix of the errors is correctly specified.\n"
     ]
    }
   ],
   "source": [
    "formula = '''read12 ~ math12\n",
    "'''\n",
    "#model = ols(formula, df).fit(cov_type='HC0')\n",
    "model = ols(formula, df1)\n",
    "results = model.fit()\n",
    "aov_table = statsmodels.stats.anova.anova_lm(results, typ=2)\n",
    "print(aov_table)\n",
    "print(results.summary())"
   ]
  }
 ],
 "metadata": {
  "kernelspec": {
   "display_name": "Python 3",
   "language": "python",
   "name": "python3"
  },
  "language_info": {
   "codemirror_mode": {
    "name": "ipython",
    "version": 3
   },
   "file_extension": ".py",
   "mimetype": "text/x-python",
   "name": "python",
   "nbconvert_exporter": "python",
   "pygments_lexer": "ipython3",
   "version": "3.6.8"
  }
 },
 "nbformat": 4,
 "nbformat_minor": 2
}
