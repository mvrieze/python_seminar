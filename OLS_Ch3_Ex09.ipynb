{
 "cells": [
  {
   "cell_type": "markdown",
   "metadata": {},
   "source": [
    "# OLS - Wooldridge Computer Exercise\n",
    "## Chapter 3, Exercise 9"
   ]
  },
  {
   "cell_type": "markdown",
   "metadata": {},
   "source": [
    "## To add a heading:\n",
    "- Insert a new cell\n",
    "- Type or paste-in content\n",
    "- Place a single / just one \"pound-sign\" in front of the heading content\n",
    "- Select \"Markdown\"\n",
    "- Press \"Shift\", \"Enter\" at same time to convert to clean commentary"
   ]
  },
  {
   "cell_type": "markdown",
   "metadata": {},
   "source": [
    "## To add a sub-heading:\n",
    "- Insert a new cell\n",
    "- Type or paste-in content\n",
    "- Place two \"pound-signs\" in front of the sub-heading\n",
    "- Select \"Markdown\"\n",
    "- Press \"Shift\", \"Enter\" at same time to convert to clean commentary"
   ]
  },
  {
   "cell_type": "markdown",
   "metadata": {},
   "source": [
    "## To add new bulleted documentation:\n",
    "\n",
    "- Insert a new cell\n",
    "- Type or paste-in content\n",
    "- Place a \"dash\" character in front of the bulleted content\n",
    "- Select \"Markdown\"\n",
    "- Press \"Shift\", \"Enter\" at same time to convert to clean commentary"
   ]
  },
  {
   "cell_type": "markdown",
   "metadata": {},
   "source": [
    "# References\n",
    "- Wooldridge, J.M. (2016). Introductory econometrics: A modern approach (6thed.). Mason, OH: South-Western, Cengage Learning.\n",
    "- Residual Plots: https://medium.com/@emredjan/emulating-r-regression-plots-in-python-43741952c034\n",
    "- Understanding residual plots: https://data.library.virginia.edu/diagnostic-plots/\n",
    "- VIF: https://etav.github.io/python/vif_factor_python.html\n",
    "- VIF: https://en.wikipedia.org/wiki/Variance_inflation_factor"
   ]
  },
  {
   "cell_type": "markdown",
   "metadata": {},
   "source": [
    "# Instantiate libraries"
   ]
  },
  {
   "cell_type": "code",
   "execution_count": 25,
   "metadata": {},
   "outputs": [],
   "source": [
    "import pandas as pd\n",
    "import numpy as np\n",
    "import matplotlib.pyplot as plt\n",
    "import seaborn as sns\n",
    "%matplotlib inline\n",
    "\n",
    "import statsmodels\n",
    "import statsmodels.api as sm\n",
    "import statsmodels.stats.api as sms\n",
    "\n",
    "from statsmodels.formula.api import ols\n",
    "from statsmodels.compat import lzip\n",
    "from patsy import dmatrices\n",
    "from statsmodels.stats.outliers_influence import variance_inflation_factor\n",
    "\n",
    "from statsmodels.graphics.gofplots import ProbPlot\n",
    "\n",
    "#import pandas.tseries.api as sm\n",
    "#from tseries.formula.apt import ols\n",
    "\n",
    "from scipy.stats import ttest_ind, ttest_ind_from_stats\n",
    "from scipy.special import stdtr\n",
    "\n",
    "\n",
    "plt.style.use('seaborn') # pretty matplotlib plots\n",
    "\n",
    "plt.rc('font', size=14)\n",
    "plt.rc('figure', titlesize=18)\n",
    "plt.rc('axes', labelsize=15)\n",
    "plt.rc('axes', titlesize=18)\n",
    "\n",
    "# Latex markup language \n",
    "from IPython.display import Latex"
   ]
  },
  {
   "cell_type": "markdown",
   "metadata": {},
   "source": [
    "# Data Read from csv"
   ]
  },
  {
   "cell_type": "code",
   "execution_count": 26,
   "metadata": {},
   "outputs": [
    {
     "name": "stdout",
     "output_type": "stream",
     "text": [
      "   respond  gift  resplast   weekslast  propresp  mailsyear  giftlast  avggift\n",
      "0        0     0         0  143.000000       0.3        2.5        10     10.0\n",
      "1        0     0         0   65.428574       0.3        2.5        10     10.0\n",
      "2        0     0         1   13.142858       0.3        2.5        10     10.0\n",
      "3        0     0         0  120.142860       0.3        2.5        10     10.0\n",
      "4        1    10         0  103.857140       0.2        2.5        10     10.0\n",
      "Wall time: 19 ms\n"
     ]
    }
   ],
   "source": [
    "%%time\n",
    "#df = pd.read_csv(BytesIO(csv_as_bytes),sep='|',nrows=100000)\n",
    "df1 = pd.read_stata('C://Users//a1325728//Documents//Econometrics Training//Data//charity.dta')\n",
    "print(df1.head())"
   ]
  },
  {
   "cell_type": "code",
   "execution_count": 27,
   "metadata": {},
   "outputs": [],
   "source": [
    "df1['constant'] = 1"
   ]
  },
  {
   "cell_type": "markdown",
   "metadata": {},
   "source": [
    "# Data Checks\n",
    "- Columns"
   ]
  },
  {
   "cell_type": "code",
   "execution_count": 28,
   "metadata": {},
   "outputs": [
    {
     "name": "stdout",
     "output_type": "stream",
     "text": [
      "<class 'pandas.core.frame.DataFrame'>\n",
      "Int64Index: 4268 entries, 0 to 4267\n",
      "Data columns (total 9 columns):\n",
      "respond      4268 non-null int8\n",
      "gift         4268 non-null int16\n",
      "resplast     4268 non-null int8\n",
      "weekslast    4268 non-null float32\n",
      "propresp     4268 non-null float32\n",
      "mailsyear    4268 non-null float32\n",
      "giftlast     4268 non-null int16\n",
      "avggift      4268 non-null float32\n",
      "constant     4268 non-null int64\n",
      "dtypes: float32(4), int16(2), int64(1), int8(2)\n",
      "memory usage: 158.4 KB\n",
      "Wall time: 5.99 ms\n"
     ]
    }
   ],
   "source": [
    "%%time\n",
    "df1.info()"
   ]
  },
  {
   "cell_type": "markdown",
   "metadata": {},
   "source": [
    "### Estimate: $gift = \\beta_{0} + \\beta_{1}mailsyear + \\beta_{2}giftlast + \\beta_{3}propresp + \\mu$"
   ]
  },
  {
   "cell_type": "code",
   "execution_count": 31,
   "metadata": {},
   "outputs": [
    {
     "name": "stdout",
     "output_type": "stream",
     "text": [
      "                  sum_sq      df         F        PR(>F)\n",
      "mailsyear   13349.725136     1.0  59.64904  1.403549e-14\n",
      "Residual   954750.114367  4266.0       NaN           NaN\n",
      "                            OLS Regression Results                            \n",
      "==============================================================================\n",
      "Dep. Variable:                   gift   R-squared:                       0.014\n",
      "Model:                            OLS   Adj. R-squared:                  0.014\n",
      "Method:                 Least Squares   F-statistic:                     59.65\n",
      "Date:                Tue, 11 Feb 2020   Prob (F-statistic):           1.40e-14\n",
      "Time:                        15:17:43   Log-Likelihood:                -17602.\n",
      "No. Observations:                4268   AIC:                         3.521e+04\n",
      "Df Residuals:                    4266   BIC:                         3.522e+04\n",
      "Df Model:                           1                                         \n",
      "Covariance Type:            nonrobust                                         \n",
      "==============================================================================\n",
      "                 coef    std err          t      P>|t|      [0.025      0.975]\n",
      "------------------------------------------------------------------------------\n",
      "Intercept      2.0141      0.739      2.724      0.006       0.564       3.464\n",
      "mailsyear      2.6495      0.343      7.723      0.000       1.977       3.322\n",
      "==============================================================================\n",
      "Omnibus:                     4951.411   Durbin-Watson:                   1.529\n",
      "Prob(Omnibus):                  0.000   Jarque-Bera (JB):           784986.187\n",
      "Skew:                           5.889   Prob(JB):                         0.00\n",
      "Kurtosis:                      68.387   Cond. No.                         8.34\n",
      "==============================================================================\n",
      "\n",
      "Warnings:\n",
      "[1] Standard Errors assume that the covariance matrix of the errors is correctly specified.\n"
     ]
    }
   ],
   "source": [
    "formula = '''gift ~ mailsyear \n",
    "'''\n",
    "#model = ols(formula, df).fit(cov_type='HC0')\n",
    "model = ols(formula, df1)\n",
    "results = model.fit()\n",
    "aov_table = statsmodels.stats.anova.anova_lm(results, typ=2)\n",
    "print(aov_table)\n",
    "print(results.summary())"
   ]
  },
  {
   "cell_type": "code",
   "execution_count": 32,
   "metadata": {},
   "outputs": [
    {
     "name": "stdout",
     "output_type": "stream",
     "text": [
      "                  sum_sq      df           F        PR(>F)\n",
      "mailsyear    8864.155559     1.0   42.592739  7.529112e-11\n",
      "giftlast     3562.889837     1.0   17.119875  3.576994e-05\n",
      "propresp    64186.929038     1.0  308.421605  1.022183e-66\n",
      "Residual   887399.134315  4264.0         NaN           NaN\n",
      "                            OLS Regression Results                            \n",
      "==============================================================================\n",
      "Dep. Variable:                   gift   R-squared:                       0.083\n",
      "Model:                            OLS   Adj. R-squared:                  0.083\n",
      "Method:                 Least Squares   F-statistic:                     129.3\n",
      "Date:                Tue, 11 Feb 2020   Prob (F-statistic):           3.86e-80\n",
      "Time:                        15:17:44   Log-Likelihood:                -17446.\n",
      "No. Observations:                4268   AIC:                         3.490e+04\n",
      "Df Residuals:                    4264   BIC:                         3.492e+04\n",
      "Df Model:                           3                                         \n",
      "Covariance Type:            nonrobust                                         \n",
      "==============================================================================\n",
      "                 coef    std err          t      P>|t|      [0.025      0.975]\n",
      "------------------------------------------------------------------------------\n",
      "Intercept     -4.5515      0.803     -5.668      0.000      -6.126      -2.977\n",
      "mailsyear      2.1663      0.332      6.526      0.000       1.516       2.817\n",
      "giftlast       0.0059      0.001      4.138      0.000       0.003       0.009\n",
      "propresp      15.3586      0.875     17.562      0.000      13.644      17.073\n",
      "==============================================================================\n",
      "Omnibus:                     5103.126   Durbin-Watson:                   1.667\n",
      "Prob(Omnibus):                  0.000   Jarque-Bera (JB):           941920.719\n",
      "Skew:                           6.166   Prob(JB):                         0.00\n",
      "Kurtosis:                      74.726   Cond. No.                         721.\n",
      "==============================================================================\n",
      "\n",
      "Warnings:\n",
      "[1] Standard Errors assume that the covariance matrix of the errors is correctly specified.\n"
     ]
    }
   ],
   "source": [
    "formula = '''gift ~ mailsyear + giftlast + propresp\n",
    "'''\n",
    "#model = ols(formula, df).fit(cov_type='HC0')\n",
    "model = ols(formula, df1)\n",
    "results2 = model.fit()\n",
    "aov_table = statsmodels.stats.anova.anova_lm(results2, typ=2)\n",
    "print(aov_table)\n",
    "print(results2.summary())"
   ]
  },
  {
   "cell_type": "code",
   "execution_count": 33,
   "metadata": {},
   "outputs": [
    {
     "name": "stdout",
     "output_type": "stream",
     "text": [
      "\n",
      "==============================\n",
      "            gift I   gift II  \n",
      "------------------------------\n",
      "Intercept 2.0141*** -4.5515***\n",
      "          (0.7395)  (0.8030)  \n",
      "giftlast            0.0059*** \n",
      "                    (0.0014)  \n",
      "mailsyear 2.6495*** 2.1663*** \n",
      "          (0.3431)  (0.3319)  \n",
      "propresp            15.3586***\n",
      "                    (0.8745)  \n",
      "==============================\n",
      "Standard errors in\n",
      "parentheses.\n",
      "* p<.1, ** p<.05, ***p<.01\n"
     ]
    }
   ],
   "source": [
    "from statsmodels.iolib.summary2 import summary_col\n",
    "dfoutput = summary_col([results,results2],stars=True)\n",
    "print(dfoutput)"
   ]
  },
  {
   "cell_type": "code",
   "execution_count": 79,
   "metadata": {},
   "outputs": [
    {
     "name": "stdout",
     "output_type": "stream",
     "text": [
      "The r-squared for the simple regression is: 0.013789616103133118\n",
      "The r-squared for the multiple regression is: 0.08335989935693011\n"
     ]
    }
   ],
   "source": [
    "print(\"The r-squared for the simple regression is: \" + str(results.rsquared))\n",
    "print(\"The r-squared for the multiple regression is: \" + str(results2.rsquared))"
   ]
  },
  {
   "cell_type": "code",
   "execution_count": 41,
   "metadata": {},
   "outputs": [
    {
     "name": "stdout",
     "output_type": "stream",
     "text": [
      "The minimum level of propresp is: 0.090909\n",
      "The maximum level of propresp is: 1.0\n"
     ]
    }
   ],
   "source": [
    "min_propresp = np.min(df1['propresp'])\n",
    "max_propresp = np.max(df1['propresp'])\n",
    "\n",
    "print(\"The minimum level of propresp is: \" + str(min_propresp))\n",
    "print(\"The maximum level of propresp is: \" + str(max_propresp))"
   ]
  },
  {
   "cell_type": "code",
   "execution_count": 46,
   "metadata": {},
   "outputs": [
    {
     "name": "stdout",
     "output_type": "stream",
     "text": [
      "The coefficient for propresp is: 15.35860527700556\n",
      "The addition to gift when propresp is 0.2 is: 3.0717210554011123\n",
      "The addition to gift when propresp is 0.3 is: 4.607581583101668\n",
      "The addition to gift when propresp increases by 0.1 is: 1.5358605277005557\n"
     ]
    }
   ],
   "source": [
    "coefs = results2.params\n",
    "propresp = coefs.propresp\n",
    "propresp_02 = propresp*0.2\n",
    "propresp_03 = propresp*0.3\n",
    "propresp_diff = propresp_03 - propresp_02\n",
    "\n",
    "print(\"The coefficient for propresp is: \" + str(propresp))\n",
    "\n",
    "print(\"The addition to gift when propresp is 0.2 is: \" + str(propresp_02))\n",
    "print(\"The addition to gift when propresp is 0.3 is: \" + str(propresp_03))\n",
    "\n",
    "print(\"The addition to gift when propresp increases by 0.1 is: \" + str(propresp_diff))"
   ]
  },
  {
   "cell_type": "markdown",
   "metadata": {},
   "source": [
    "### Estimate: $gift = \\beta_{0} + \\beta_{1}mailsyear + \\beta_{2}giftlast + \\beta_{3}propresp + \\beta_{4}avggift + \\mu$"
   ]
  },
  {
   "cell_type": "code",
   "execution_count": 47,
   "metadata": {},
   "outputs": [
    {
     "name": "stdout",
     "output_type": "stream",
     "text": [
      "                  sum_sq      df           F         PR(>F)\n",
      "mailsyear    2683.739119     1.0   14.782086   1.224363e-04\n",
      "giftlast   106775.055328     1.0  588.119048  8.140719e-122\n",
      "propresp    71330.769374     1.0  392.891243   1.030457e-83\n",
      "avggift    113436.681290     1.0  624.811411  8.391669e-129\n",
      "Residual   773962.453025  4263.0         NaN            NaN\n",
      "                            OLS Regression Results                            \n",
      "==============================================================================\n",
      "Dep. Variable:                   gift   R-squared:                       0.201\n",
      "Model:                            OLS   Adj. R-squared:                  0.200\n",
      "Method:                 Least Squares   F-statistic:                     267.3\n",
      "Date:                Tue, 11 Feb 2020   Prob (F-statistic):          2.82e-205\n",
      "Time:                        16:09:11   Log-Likelihood:                -17154.\n",
      "No. Observations:                4268   AIC:                         3.432e+04\n",
      "Df Residuals:                    4263   BIC:                         3.435e+04\n",
      "Df Model:                           4                                         \n",
      "Covariance Type:            nonrobust                                         \n",
      "==============================================================================\n",
      "                 coef    std err          t      P>|t|      [0.025      0.975]\n",
      "------------------------------------------------------------------------------\n",
      "Intercept     -7.3278      0.758     -9.664      0.000      -8.814      -5.841\n",
      "mailsyear      1.2012      0.312      3.845      0.000       0.589       1.814\n",
      "giftlast      -0.2609      0.011    -24.251      0.000      -0.282      -0.240\n",
      "propresp      16.2046      0.818     19.821      0.000      14.602      17.807\n",
      "avggift        0.5269      0.021     24.996      0.000       0.486       0.568\n",
      "==============================================================================\n",
      "Omnibus:                     3922.109   Durbin-Watson:                   1.787\n",
      "Prob(Omnibus):                  0.000   Jarque-Bera (JB):           698065.217\n",
      "Skew:                           3.806   Prob(JB):                         0.00\n",
      "Kurtosis:                      65.189   Cond. No.                         814.\n",
      "==============================================================================\n",
      "\n",
      "Warnings:\n",
      "[1] Standard Errors assume that the covariance matrix of the errors is correctly specified.\n"
     ]
    }
   ],
   "source": [
    "formula = '''gift ~ mailsyear + giftlast + propresp + avggift\n",
    "'''\n",
    "#model = ols(formula, df).fit(cov_type='HC0')\n",
    "model = ols(formula, df1)\n",
    "results3 = model.fit()\n",
    "aov_table = statsmodels.stats.anova.anova_lm(results3, typ=2)\n",
    "print(aov_table)\n",
    "print(results3.summary())"
   ]
  },
  {
   "cell_type": "code",
   "execution_count": 48,
   "metadata": {},
   "outputs": [
    {
     "name": "stdout",
     "output_type": "stream",
     "text": [
      "\n",
      "=========================================\n",
      "            gift I   gift II    gift III \n",
      "-----------------------------------------\n",
      "Intercept 2.0141*** -4.5515*** -7.3278***\n",
      "          (0.7395)  (0.8030)   (0.7582)  \n",
      "avggift                        0.5269*** \n",
      "                               (0.0211)  \n",
      "giftlast            0.0059***  -0.2609***\n",
      "                    (0.0014)   (0.0108)  \n",
      "mailsyear 2.6495*** 2.1663***  1.2012*** \n",
      "          (0.3431)  (0.3319)   (0.3124)  \n",
      "propresp            15.3586*** 16.2046***\n",
      "                    (0.8745)   (0.8175)  \n",
      "=========================================\n",
      "Standard errors in parentheses.\n",
      "* p<.1, ** p<.05, ***p<.01\n"
     ]
    }
   ],
   "source": [
    "from statsmodels.iolib.summary2 import summary_col\n",
    "dfoutput = summary_col([results,results2,results3],stars=True)\n",
    "print(dfoutput)"
   ]
  },
  {
   "cell_type": "markdown",
   "metadata": {},
   "source": [
    "# Check for Multicollinearity\n",
    "## Step 1: Run a multiple regression"
   ]
  },
  {
   "cell_type": "code",
   "execution_count": 49,
   "metadata": {},
   "outputs": [],
   "source": [
    "%%capture\n",
    "\n",
    "# get y and X dataframes based on this regression:\n",
    "y, X = dmatrices(formula, df1, return_type='dataframe')"
   ]
  },
  {
   "cell_type": "code",
   "execution_count": 52,
   "metadata": {},
   "outputs": [
    {
     "data": {
      "text/html": [
       "<div>\n",
       "<style scoped>\n",
       "    .dataframe tbody tr th:only-of-type {\n",
       "        vertical-align: middle;\n",
       "    }\n",
       "\n",
       "    .dataframe tbody tr th {\n",
       "        vertical-align: top;\n",
       "    }\n",
       "\n",
       "    .dataframe thead th {\n",
       "        text-align: right;\n",
       "    }\n",
       "</style>\n",
       "<table border=\"1\" class=\"dataframe\">\n",
       "  <thead>\n",
       "    <tr style=\"text-align: right;\">\n",
       "      <th></th>\n",
       "      <th>Intercept</th>\n",
       "      <th>mailsyear</th>\n",
       "      <th>giftlast</th>\n",
       "      <th>propresp</th>\n",
       "      <th>avggift</th>\n",
       "    </tr>\n",
       "  </thead>\n",
       "  <tbody>\n",
       "    <tr>\n",
       "      <th>0</th>\n",
       "      <td>1.0</td>\n",
       "      <td>2.5</td>\n",
       "      <td>10.0</td>\n",
       "      <td>0.3</td>\n",
       "      <td>10.0</td>\n",
       "    </tr>\n",
       "    <tr>\n",
       "      <th>1</th>\n",
       "      <td>1.0</td>\n",
       "      <td>2.5</td>\n",
       "      <td>10.0</td>\n",
       "      <td>0.3</td>\n",
       "      <td>10.0</td>\n",
       "    </tr>\n",
       "    <tr>\n",
       "      <th>2</th>\n",
       "      <td>1.0</td>\n",
       "      <td>2.5</td>\n",
       "      <td>10.0</td>\n",
       "      <td>0.3</td>\n",
       "      <td>10.0</td>\n",
       "    </tr>\n",
       "    <tr>\n",
       "      <th>3</th>\n",
       "      <td>1.0</td>\n",
       "      <td>2.5</td>\n",
       "      <td>10.0</td>\n",
       "      <td>0.3</td>\n",
       "      <td>10.0</td>\n",
       "    </tr>\n",
       "    <tr>\n",
       "      <th>4</th>\n",
       "      <td>1.0</td>\n",
       "      <td>2.5</td>\n",
       "      <td>10.0</td>\n",
       "      <td>0.2</td>\n",
       "      <td>10.0</td>\n",
       "    </tr>\n",
       "  </tbody>\n",
       "</table>\n",
       "</div>"
      ],
      "text/plain": [
       "   Intercept  mailsyear  giftlast  propresp  avggift\n",
       "0        1.0        2.5      10.0       0.3     10.0\n",
       "1        1.0        2.5      10.0       0.3     10.0\n",
       "2        1.0        2.5      10.0       0.3     10.0\n",
       "3        1.0        2.5      10.0       0.3     10.0\n",
       "4        1.0        2.5      10.0       0.2     10.0"
      ]
     },
     "execution_count": 52,
     "metadata": {},
     "output_type": "execute_result"
    }
   ],
   "source": [
    "y.head()\n",
    "X.head()"
   ]
  },
  {
   "cell_type": "markdown",
   "metadata": {},
   "source": [
    "## Step 2: Calculate VIF Factors"
   ]
  },
  {
   "cell_type": "code",
   "execution_count": 12,
   "metadata": {},
   "outputs": [],
   "source": [
    "# For each X, calculate VIF and save in dataframe\n",
    "vif = pd.DataFrame()\n",
    "vif[\"VIF Factor\"] = [variance_inflation_factor(X.values, i) for i in range(X.shape[1])]\n",
    "vif['mailsyear','giftlast','propresp','avggift'] = X.columns"
   ]
  },
  {
   "cell_type": "markdown",
   "metadata": {},
   "source": [
    "## Step 3: Inspect VIF Factors\n",
    "- Values > 10 indicate presence of significant multicollinearity"
   ]
  },
  {
   "cell_type": "code",
   "execution_count": 53,
   "metadata": {},
   "outputs": [
    {
     "data": {
      "text/html": [
       "<div>\n",
       "<style scoped>\n",
       "    .dataframe tbody tr th:only-of-type {\n",
       "        vertical-align: middle;\n",
       "    }\n",
       "\n",
       "    .dataframe tbody tr th {\n",
       "        vertical-align: top;\n",
       "    }\n",
       "\n",
       "    .dataframe thead th {\n",
       "        text-align: right;\n",
       "    }\n",
       "</style>\n",
       "<table border=\"1\" class=\"dataframe\">\n",
       "  <thead>\n",
       "    <tr style=\"text-align: right;\">\n",
       "      <th></th>\n",
       "      <th>VIF Factor</th>\n",
       "      <th>(mailsyear, giftlast, propresp, avggift)</th>\n",
       "    </tr>\n",
       "  </thead>\n",
       "  <tbody>\n",
       "    <tr>\n",
       "      <th>0</th>\n",
       "      <td>13.5</td>\n",
       "      <td>Intercept</td>\n",
       "    </tr>\n",
       "    <tr>\n",
       "      <th>1</th>\n",
       "      <td>1.0</td>\n",
       "      <td>mailsyear</td>\n",
       "    </tr>\n",
       "    <tr>\n",
       "      <th>2</th>\n",
       "      <td>64.7</td>\n",
       "      <td>giftlast</td>\n",
       "    </tr>\n",
       "    <tr>\n",
       "      <th>3</th>\n",
       "      <td>1.0</td>\n",
       "      <td>propresp</td>\n",
       "    </tr>\n",
       "    <tr>\n",
       "      <th>4</th>\n",
       "      <td>64.7</td>\n",
       "      <td>avggift</td>\n",
       "    </tr>\n",
       "  </tbody>\n",
       "</table>\n",
       "</div>"
      ],
      "text/plain": [
       "   VIF Factor (mailsyear, giftlast, propresp, avggift)\n",
       "0        13.5                                Intercept\n",
       "1         1.0                                mailsyear\n",
       "2        64.7                                 giftlast\n",
       "3         1.0                                 propresp\n",
       "4        64.7                                  avggift"
      ]
     },
     "execution_count": 53,
     "metadata": {},
     "output_type": "execute_result"
    }
   ],
   "source": [
    "vif.round(1)\n"
   ]
  },
  {
   "cell_type": "code",
   "execution_count": 80,
   "metadata": {},
   "outputs": [
    {
     "data": {
      "text/plain": [
       "35207.238124986696"
      ]
     },
     "execution_count": 80,
     "metadata": {},
     "output_type": "execute_result"
    }
   ],
   "source": [
    "results.aic"
   ]
  },
  {
   "cell_type": "code",
   "execution_count": 54,
   "metadata": {},
   "outputs": [
    {
     "data": {
      "text/html": [
       "<div>\n",
       "<style scoped>\n",
       "    .dataframe tbody tr th:only-of-type {\n",
       "        vertical-align: middle;\n",
       "    }\n",
       "\n",
       "    .dataframe tbody tr th {\n",
       "        vertical-align: top;\n",
       "    }\n",
       "\n",
       "    .dataframe thead th {\n",
       "        text-align: right;\n",
       "    }\n",
       "</style>\n",
       "<table border=\"1\" class=\"dataframe\">\n",
       "  <thead>\n",
       "    <tr style=\"text-align: right;\">\n",
       "      <th></th>\n",
       "      <th>respond</th>\n",
       "      <th>gift</th>\n",
       "      <th>resplast</th>\n",
       "      <th>weekslast</th>\n",
       "      <th>propresp</th>\n",
       "      <th>mailsyear</th>\n",
       "      <th>giftlast</th>\n",
       "      <th>avggift</th>\n",
       "      <th>constant</th>\n",
       "    </tr>\n",
       "  </thead>\n",
       "  <tbody>\n",
       "    <tr>\n",
       "      <th>respond</th>\n",
       "      <td>1.000000</td>\n",
       "      <td>0.605444</td>\n",
       "      <td>0.330859</td>\n",
       "      <td>-0.360613</td>\n",
       "      <td>0.443219</td>\n",
       "      <td>0.117981</td>\n",
       "      <td>0.021508</td>\n",
       "      <td>0.021975</td>\n",
       "      <td>NaN</td>\n",
       "    </tr>\n",
       "    <tr>\n",
       "      <th>gift</th>\n",
       "      <td>0.605444</td>\n",
       "      <td>1.000000</td>\n",
       "      <td>0.201906</td>\n",
       "      <td>-0.219913</td>\n",
       "      <td>0.265400</td>\n",
       "      <td>0.117429</td>\n",
       "      <td>0.057905</td>\n",
       "      <td>0.100448</td>\n",
       "      <td>NaN</td>\n",
       "    </tr>\n",
       "    <tr>\n",
       "      <th>resplast</th>\n",
       "      <td>0.330859</td>\n",
       "      <td>0.201906</td>\n",
       "      <td>1.000000</td>\n",
       "      <td>-0.585306</td>\n",
       "      <td>0.619563</td>\n",
       "      <td>0.022452</td>\n",
       "      <td>-0.009108</td>\n",
       "      <td>-0.008143</td>\n",
       "      <td>NaN</td>\n",
       "    </tr>\n",
       "    <tr>\n",
       "      <th>weekslast</th>\n",
       "      <td>-0.360613</td>\n",
       "      <td>-0.219913</td>\n",
       "      <td>-0.585306</td>\n",
       "      <td>1.000000</td>\n",
       "      <td>-0.634895</td>\n",
       "      <td>-0.181556</td>\n",
       "      <td>0.027397</td>\n",
       "      <td>0.027697</td>\n",
       "      <td>NaN</td>\n",
       "    </tr>\n",
       "    <tr>\n",
       "      <th>propresp</th>\n",
       "      <td>0.443219</td>\n",
       "      <td>0.265400</td>\n",
       "      <td>0.619563</td>\n",
       "      <td>-0.634895</td>\n",
       "      <td>1.000000</td>\n",
       "      <td>0.081428</td>\n",
       "      <td>-0.013043</td>\n",
       "      <td>-0.016842</td>\n",
       "      <td>NaN</td>\n",
       "    </tr>\n",
       "    <tr>\n",
       "      <th>mailsyear</th>\n",
       "      <td>0.117981</td>\n",
       "      <td>0.117429</td>\n",
       "      <td>0.022452</td>\n",
       "      <td>-0.181556</td>\n",
       "      <td>0.081428</td>\n",
       "      <td>1.000000</td>\n",
       "      <td>0.006273</td>\n",
       "      <td>0.021336</td>\n",
       "      <td>NaN</td>\n",
       "    </tr>\n",
       "    <tr>\n",
       "      <th>giftlast</th>\n",
       "      <td>0.021508</td>\n",
       "      <td>0.057905</td>\n",
       "      <td>-0.009108</td>\n",
       "      <td>0.027397</td>\n",
       "      <td>-0.013043</td>\n",
       "      <td>0.006273</td>\n",
       "      <td>1.000000</td>\n",
       "      <td>0.992113</td>\n",
       "      <td>NaN</td>\n",
       "    </tr>\n",
       "    <tr>\n",
       "      <th>avggift</th>\n",
       "      <td>0.021975</td>\n",
       "      <td>0.100448</td>\n",
       "      <td>-0.008143</td>\n",
       "      <td>0.027697</td>\n",
       "      <td>-0.016842</td>\n",
       "      <td>0.021336</td>\n",
       "      <td>0.992113</td>\n",
       "      <td>1.000000</td>\n",
       "      <td>NaN</td>\n",
       "    </tr>\n",
       "    <tr>\n",
       "      <th>constant</th>\n",
       "      <td>NaN</td>\n",
       "      <td>NaN</td>\n",
       "      <td>NaN</td>\n",
       "      <td>NaN</td>\n",
       "      <td>NaN</td>\n",
       "      <td>NaN</td>\n",
       "      <td>NaN</td>\n",
       "      <td>NaN</td>\n",
       "      <td>NaN</td>\n",
       "    </tr>\n",
       "  </tbody>\n",
       "</table>\n",
       "</div>"
      ],
      "text/plain": [
       "            respond      gift  resplast  weekslast  propresp  mailsyear  \\\n",
       "respond    1.000000  0.605444  0.330859  -0.360613  0.443219   0.117981   \n",
       "gift       0.605444  1.000000  0.201906  -0.219913  0.265400   0.117429   \n",
       "resplast   0.330859  0.201906  1.000000  -0.585306  0.619563   0.022452   \n",
       "weekslast -0.360613 -0.219913 -0.585306   1.000000 -0.634895  -0.181556   \n",
       "propresp   0.443219  0.265400  0.619563  -0.634895  1.000000   0.081428   \n",
       "mailsyear  0.117981  0.117429  0.022452  -0.181556  0.081428   1.000000   \n",
       "giftlast   0.021508  0.057905 -0.009108   0.027397 -0.013043   0.006273   \n",
       "avggift    0.021975  0.100448 -0.008143   0.027697 -0.016842   0.021336   \n",
       "constant        NaN       NaN       NaN        NaN       NaN        NaN   \n",
       "\n",
       "           giftlast   avggift  constant  \n",
       "respond    0.021508  0.021975       NaN  \n",
       "gift       0.057905  0.100448       NaN  \n",
       "resplast  -0.009108 -0.008143       NaN  \n",
       "weekslast  0.027397  0.027697       NaN  \n",
       "propresp  -0.013043 -0.016842       NaN  \n",
       "mailsyear  0.006273  0.021336       NaN  \n",
       "giftlast   1.000000  0.992113       NaN  \n",
       "avggift    0.992113  1.000000       NaN  \n",
       "constant        NaN       NaN       NaN  "
      ]
     },
     "execution_count": 54,
     "metadata": {},
     "output_type": "execute_result"
    }
   ],
   "source": [
    "df1.corr(method ='pearson') "
   ]
  },
  {
   "cell_type": "code",
   "execution_count": 71,
   "metadata": {},
   "outputs": [
    {
     "data": {
      "text/plain": [
       "<matplotlib.axes._subplots.AxesSubplot at 0x1b410e2fcf8>"
      ]
     },
     "execution_count": 71,
     "metadata": {},
     "output_type": "execute_result"
    },
    {
     "data": {
      "image/png": "[encoded data removed]",
      "text/plain": [
       "<Figure size 1080x720 with 2 Axes>"
      ]
     },
     "metadata": {},
     "output_type": "display_data"
    }
   ],
   "source": [
    "corr = df1.corr(method ='pearson') \n",
    "plt.figure(figsize=(15, 10))\n",
    "sns.heatmap(corr, \n",
    "            xticklabels=corr.columns.values,\n",
    "            yticklabels=corr.columns.values)"
   ]
  },
  {
   "cell_type": "code",
   "execution_count": 72,
   "metadata": {},
   "outputs": [
    {
     "data": {
      "text/plain": [
       "814.4832408821183"
      ]
     },
     "execution_count": 72,
     "metadata": {},
     "output_type": "execute_result"
    }
   ],
   "source": [
    "# Multicolinearity\n",
    "np.linalg.cond(results3.model.exog)"
   ]
  },
  {
   "cell_type": "markdown",
   "metadata": {},
   "source": [
    "# Residual Plotting\n",
    "- First add some setup variables from the \"results\" model output."
   ]
  },
  {
   "cell_type": "code",
   "execution_count": 62,
   "metadata": {},
   "outputs": [],
   "source": [
    "# fitted values (need a constant term for intercept)\n",
    "model_fitted_y = results.fittedvalues\n",
    "\n",
    "# model residuals\n",
    "model_residuals = results.resid\n",
    "\n",
    "# normalized residuals\n",
    "model_norm_residuals = results.get_influence().resid_studentized_internal\n",
    "\n",
    "# absolute squared normalized residuals\n",
    "model_norm_residuals_abs_sqrt = np.sqrt(np.abs(model_norm_residuals))\n",
    "\n",
    "# absolute residuals\n",
    "model_abs_resid = np.abs(model_residuals)\n",
    "\n",
    "# leverage, from statsmodels internals\n",
    "model_leverage = results.get_influence().hat_matrix_diag\n",
    "\n",
    "# cook's distance, from statsmodels internals\n",
    "model_cooks = results.get_influence().cooks_distance[0]"
   ]
  },
  {
   "cell_type": "markdown",
   "metadata": {},
   "source": [
    "# Residual Plot\n",
    "## non-linear plot line indicative of non-linear relationship not captured in model"
   ]
  },
  {
   "cell_type": "code",
   "execution_count": 63,
   "metadata": {},
   "outputs": [
    {
     "data": {
      "image/png": "[encoded data removed]",
      "text/plain": [
       "<Figure size 864x576 with 1 Axes>"
      ]
     },
     "metadata": {},
     "output_type": "display_data"
    }
   ],
   "source": [
    "plot_lm_1 = plt.figure(1)\n",
    "plot_lm_1.set_figheight(8)\n",
    "plot_lm_1.set_figwidth(12)\n",
    "\n",
    "plot_lm_1.axes[0] = sns.residplot(model_fitted_y, 'gift', data=df1, \n",
    "                          lowess=True, \n",
    "                          scatter_kws={'alpha': 0.5}, \n",
    "                          line_kws={'color': 'red', 'lw': 1, 'alpha': 0.8})\n",
    "\n",
    "plot_lm_1.axes[0].set_title('Residuals vs Fitted')\n",
    "plot_lm_1.axes[0].set_xlabel('Fitted values')\n",
    "plot_lm_1.axes[0].set_ylabel('Residuals')\n",
    "\n",
    "# annotations\n",
    "abs_resid = model_abs_resid.sort_values(ascending=False)\n",
    "abs_resid_top_3 = abs_resid[:3]\n",
    "\n",
    "for i in abs_resid_top_3.index:\n",
    "    plot_lm_1.axes[0].annotate(i, \n",
    "                               xy=(model_fitted_y[i], \n",
    "                                   model_residuals[i]));"
   ]
  },
  {
   "cell_type": "markdown",
   "metadata": {},
   "source": [
    "# QQ Plot\n",
    "- residuals following plot line well indicative of normally distributed residuals\n",
    "- residuals that deviate sharply indicative of non-normally distributed residuals"
   ]
  },
  {
   "cell_type": "code",
   "execution_count": 64,
   "metadata": {},
   "outputs": [
    {
     "data": {
      "image/png": "[encoded data removed]",
      "text/plain": [
       "<Figure size 864x576 with 1 Axes>"
      ]
     },
     "metadata": {},
     "output_type": "display_data"
    }
   ],
   "source": [
    "QQ = ProbPlot(model_norm_residuals)\n",
    "plot_lm_2 = QQ.qqplot(line='45', alpha=0.5, color='#4C72B0', lw=1)\n",
    "\n",
    "plot_lm_2.set_figheight(8)\n",
    "plot_lm_2.set_figwidth(12)\n",
    "\n",
    "plot_lm_2.axes[0].set_title('Normal Q-Q')\n",
    "plot_lm_2.axes[0].set_xlabel('Theoretical Quantiles')\n",
    "plot_lm_2.axes[0].set_ylabel('Standardized Residuals');\n",
    "\n",
    "# annotations\n",
    "abs_norm_resid = np.flip(np.argsort(np.abs(model_norm_residuals)), 0)\n",
    "abs_norm_resid_top_3 = abs_norm_resid[:3]\n",
    "\n",
    "for r, i in enumerate(abs_norm_resid_top_3):\n",
    "    plot_lm_2.axes[0].annotate(i, \n",
    "                               xy=(np.flip(QQ.theoretical_quantiles, 0)[r],\n",
    "                                   model_norm_residuals[i]));"
   ]
  },
  {
   "cell_type": "markdown",
   "metadata": {},
   "source": [
    "# Scale Location Plot\n",
    "## indicative of homoscedastic residuals\n",
    "- Good to see even spread with horizontal line\n",
    "- Bad to see sloped line with spread following a pattern"
   ]
  },
  {
   "cell_type": "code",
   "execution_count": 65,
   "metadata": {},
   "outputs": [
    {
     "data": {
      "image/png": "[encoded data removed]",
      "text/plain": [
       "<Figure size 864x576 with 1 Axes>"
      ]
     },
     "metadata": {},
     "output_type": "display_data"
    }
   ],
   "source": [
    "plot_lm_3 = plt.figure(3)\n",
    "plot_lm_3.set_figheight(8)\n",
    "plot_lm_3.set_figwidth(12)\n",
    "\n",
    "plt.scatter(model_fitted_y, model_norm_residuals_abs_sqrt, alpha=0.5)\n",
    "sns.regplot(model_fitted_y, model_norm_residuals_abs_sqrt, \n",
    "            scatter=False, \n",
    "            ci=False, \n",
    "            lowess=True,\n",
    "            line_kws={'color': 'red', 'lw': 1, 'alpha': 0.8})\n",
    "\n",
    "plot_lm_3.axes[0].set_title('Scale-Location')\n",
    "plot_lm_3.axes[0].set_xlabel('Fitted values')\n",
    "plot_lm_3.axes[0].set_ylabel('$\\sqrt{|Standardized Residuals|}$');\n",
    "\n",
    "# annotations\n",
    "abs_sq_norm_resid = np.flip(np.argsort(model_norm_residuals_abs_sqrt), 0)\n",
    "abs_sq_norm_resid_top_3 = abs_sq_norm_resid[:3]\n",
    "\n",
    "for i in abs_norm_resid_top_3:\n",
    "    plot_lm_3.axes[0].annotate(i, \n",
    "                               xy=(model_fitted_y[i], \n",
    "                                   model_norm_residuals_abs_sqrt[i]));"
   ]
  },
  {
   "cell_type": "markdown",
   "metadata": {},
   "source": [
    "# Leverage Plot\n",
    "## helps us find influential cases (outliers)"
   ]
  },
  {
   "cell_type": "code",
   "execution_count": 66,
   "metadata": {
    "scrolled": true
   },
   "outputs": [
    {
     "data": {
      "image/png": "[encoded data removed]",
      "text/plain": [
       "<Figure size 864x576 with 1 Axes>"
      ]
     },
     "metadata": {},
     "output_type": "display_data"
    }
   ],
   "source": [
    "plot_lm_4 = plt.figure(4)\n",
    "plot_lm_4.set_figheight(8)\n",
    "plot_lm_4.set_figwidth(12)\n",
    "\n",
    "plt.scatter(model_leverage, model_norm_residuals, alpha=0.5)\n",
    "sns.regplot(model_leverage, model_norm_residuals, \n",
    "            scatter=False, \n",
    "            ci=False, \n",
    "            lowess=True,\n",
    "            line_kws={'color': 'red', 'lw': 1, 'alpha': 0.8})\n",
    "\n",
    "plot_lm_4.axes[0].set_xlim(0, 0.20)\n",
    "plot_lm_4.axes[0].set_ylim(-3, 5)\n",
    "plot_lm_4.axes[0].set_title('Residuals vs Leverage')\n",
    "plot_lm_4.axes[0].set_xlabel('Leverage')\n",
    "plot_lm_4.axes[0].set_ylabel('Standardized Residuals')\n",
    "\n",
    "# annotations\n",
    "leverage_top_3 = np.flip(np.argsort(model_cooks), 0)[:3]\n",
    "\n",
    "for i in leverage_top_3:\n",
    "    plot_lm_4.axes[0].annotate(i, \n",
    "                               xy=(model_leverage[i], \n",
    "                                   model_norm_residuals[i]))\n",
    "    \n",
    "# shenanigans for cook's distance contours\n",
    "def graph(formula, x_range, label=None):\n",
    "    x = x_range\n",
    "    y = formula(x)\n",
    "    plt.plot(x, y, label=label, lw=1, ls='--', color='red')\n",
    "\n",
    "p = len(results.params) # number of model parameters\n",
    "\n",
    "graph(lambda x: np.sqrt((0.5 * p * (1 - x)) / x), \n",
    "      np.linspace(0.001, 0.200, 50), \n",
    "      'Cook\\'s distance') # 0.5 line\n",
    "graph(lambda x: np.sqrt((1 * p * (1 - x)) / x), \n",
    "      np.linspace(0.001, 0.200, 50)) # 1 line\n",
    "plt.legend(loc='upper right');\n"
   ]
  },
  {
   "cell_type": "code",
   "execution_count": 14,
   "metadata": {},
   "outputs": [
    {
     "name": "stdout",
     "output_type": "stream",
     "text": [
      "Heteroscedasticity Test - Breusch Pagan\n"
     ]
    },
    {
     "data": {
      "text/plain": [
       "[('Lagrange multiplier statistic', 10.576317641010533),\n",
       " ('p-value', 0.005051051596182841),\n",
       " ('f-value', 5.805633186739767),\n",
       " ('f p-value', 0.004331356313102725)]"
      ]
     },
     "execution_count": 14,
     "metadata": {},
     "output_type": "execute_result"
    }
   ],
   "source": [
    "print(\"Heteroscedasticity Test - Breusch Pagan\")\n",
    "name = ['Lagrange multiplier statistic', 'p-value', \n",
    "        'f-value', 'f p-value']\n",
    "test = sms.het_breuschpagan(results.resid, results.model.exog)\n",
    "lzip(name, test)"
   ]
  },
  {
   "cell_type": "code",
   "execution_count": 15,
   "metadata": {},
   "outputs": [
    {
     "name": "stdout",
     "output_type": "stream",
     "text": [
      "Heteroscedasticity Test - Goldfeld Quandt\n"
     ]
    },
    {
     "data": {
      "text/plain": [
       "[('F statistic', 1.1262087375952903), ('p-value', 0.3526766006136152)]"
      ]
     },
     "execution_count": 15,
     "metadata": {},
     "output_type": "execute_result"
    }
   ],
   "source": [
    "print(\"Heteroscedasticity Test - Goldfeld Quandt\")\n",
    "name = ['F statistic', 'p-value']\n",
    "test = sms.het_goldfeldquandt(results.resid, results.model.exog)\n",
    "lzip(name, test)\n",
    "\n"
   ]
  }
 ],
 "metadata": {
  "kernelspec": {
   "display_name": "Python 3",
   "language": "python",
   "name": "python3"
  },
  "language_info": {
   "codemirror_mode": {
    "name": "ipython",
    "version": 3
   },
   "file_extension": ".py",
   "mimetype": "text/x-python",
   "name": "python",
   "nbconvert_exporter": "python",
   "pygments_lexer": "ipython3",
   "version": "3.7.1"
  }
 },
 "nbformat": 4,
 "nbformat_minor": 2
}
