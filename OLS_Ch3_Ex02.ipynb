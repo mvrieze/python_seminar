{
 "cells": [
  {
   "cell_type": "markdown",
   "metadata": {},
   "source": [
    "# OLS - Wooldridge Computer Exercise\n",
    "## Chapter 3, Exercise 2"
   ]
  },
  {
   "cell_type": "markdown",
   "metadata": {},
   "source": [
    "## To add a heading:\n",
    "- Insert a new cell\n",
    "- Type or paste-in content\n",
    "- Place a single / just one \"pound-sign\" in front of the heading content\n",
    "- Select \"Markdown\"\n",
    "- Press \"Shift\", \"Enter\" at same time to convert to clean commentary"
   ]
  },
  {
   "cell_type": "markdown",
   "metadata": {},
   "source": [
    "## To add a sub-heading:\n",
    "- Insert a new cell\n",
    "- Type or paste-in content\n",
    "- Place two \"pound-signs\" in front of the sub-heading\n",
    "- Select \"Markdown\"\n",
    "- Press \"Shift\", \"Enter\" at same time to convert to clean commentary"
   ]
  },
  {
   "cell_type": "markdown",
   "metadata": {},
   "source": [
    "## To add new bulleted documentation:\n",
    "\n",
    "- Insert a new cell\n",
    "- Type or paste-in content\n",
    "- Place a \"dash\" character in front of the bulleted content\n",
    "- Select \"Markdown\"\n",
    "- Press \"Shift\", \"Enter\" at same time to convert to clean commentary"
   ]
  },
  {
   "cell_type": "markdown",
   "metadata": {},
   "source": [
    "# References\n",
    "- Wooldridge, J.M. (2016). Introductory econometrics: A modern approach (6thed.). Mason, OH: South-Western, Cengage Learning.\n",
    "- Residual Plots: https://medium.com/@emredjan/emulating-r-regression-plots-in-python-43741952c034\n",
    "- Understanding residual plots: https://data.library.virginia.edu/diagnostic-plots/\n",
    "- Objects available in our regression results object: https://www.statsmodels.org/dev/examples/notebooks/generated/ols.html"
   ]
  },
  {
   "cell_type": "markdown",
   "metadata": {},
   "source": [
    "# Instantiate libraries"
   ]
  },
  {
   "cell_type": "code",
   "execution_count": 1,
   "metadata": {
    "collapsed": true
   },
   "outputs": [],
   "source": [
    "import pandas as pd\n",
    "import numpy as np\n",
    "import matplotlib.pyplot as plt\n",
    "import seaborn as sns\n",
    "%matplotlib inline\n",
    "\n",
    "import statsmodels\n",
    "import statsmodels.api as sm\n",
    "import statsmodels.stats.api as sms\n",
    "\n",
    "from statsmodels.formula.api import ols\n",
    "from statsmodels.compat import lzip\n",
    "\n",
    "from statsmodels.graphics.gofplots import ProbPlot\n",
    "\n",
    "#import pandas.tseries.api as sm\n",
    "#from tseries.formula.apt import ols\n",
    "\n",
    "from scipy.stats import ttest_ind, ttest_ind_from_stats\n",
    "from scipy.special import stdtr\n",
    "\n",
    "\n",
    "plt.style.use('seaborn') # pretty matplotlib plots\n",
    "\n",
    "plt.rc('font', size=14)\n",
    "plt.rc('figure', titlesize=18)\n",
    "plt.rc('axes', labelsize=15)\n",
    "plt.rc('axes', titlesize=18)\n",
    "\n",
    "# Latex markup language \n",
    "from IPython.display import Latex"
   ]
  },
  {
   "cell_type": "markdown",
   "metadata": {},
   "source": [
    "# Data Read from csv"
   ]
  },
  {
   "cell_type": "code",
   "execution_count": 2,
   "metadata": {
    "collapsed": false
   },
   "outputs": [
    {
     "name": "stdout",
     "output_type": "stream",
     "text": [
      "   price  assess  bdrms  lotsize  sqrft  colonial    lprice   lassess  \\\n",
      "0  300.0   349.1      4     6126   2438         1  5.703783  5.855359   \n",
      "1  370.0   351.5      3     9903   2076         1  5.913503  5.862210   \n",
      "2  191.0   217.7      3     5200   1374         0  5.252274  5.383118   \n",
      "3  195.0   231.8      3     4600   1448         1  5.273000  5.445875   \n",
      "4  373.0   319.1      4     6095   2514         1  5.921578  5.765504   \n",
      "\n",
      "   llotsize    lsqrft  \n",
      "0  8.720297  7.798934  \n",
      "1  9.200593  7.638198  \n",
      "2  8.556414  7.225482  \n",
      "3  8.433811  7.277938  \n",
      "4  8.715224  7.829630  \n",
      "Wall time: 19 ms\n"
     ]
    }
   ],
   "source": [
    "%%time\n",
    "#df = pd.read_csv(BytesIO(csv_as_bytes),sep='|',nrows=100000)\n",
    "df1 = pd.read_csv('C://Users//a1000391//Desktop//Machine Learning Lab//Pandas//firepit-master//HPRICE1.csv',sep=',')\n",
    "print(df1.head())"
   ]
  },
  {
   "cell_type": "code",
   "execution_count": 3,
   "metadata": {
    "collapsed": true
   },
   "outputs": [],
   "source": [
    "df1['constant'] = 1"
   ]
  },
  {
   "cell_type": "markdown",
   "metadata": {},
   "source": [
    "# Data Checks\n",
    "- Columns"
   ]
  },
  {
   "cell_type": "code",
   "execution_count": 4,
   "metadata": {
    "collapsed": false
   },
   "outputs": [
    {
     "name": "stdout",
     "output_type": "stream",
     "text": [
      "<class 'pandas.core.frame.DataFrame'>\n",
      "RangeIndex: 88 entries, 0 to 87\n",
      "Data columns (total 11 columns):\n",
      "price       88 non-null float64\n",
      "assess      88 non-null float64\n",
      "bdrms       88 non-null int64\n",
      "lotsize     88 non-null int64\n",
      "sqrft       88 non-null int64\n",
      "colonial    88 non-null int64\n",
      "lprice      88 non-null float64\n",
      "lassess     88 non-null float64\n",
      "llotsize    88 non-null float64\n",
      "lsqrft      88 non-null float64\n",
      "constant    88 non-null int64\n",
      "dtypes: float64(6), int64(5)\n",
      "memory usage: 7.6 KB\n",
      "Wall time: 5.98 ms\n"
     ]
    }
   ],
   "source": [
    "%%time\n",
    "df1.info()"
   ]
  },
  {
   "cell_type": "markdown",
   "metadata": {},
   "source": [
    "### Estimate: $price = \\alpha + \\beta_{1}sqrft + \\beta_{2}bdrms + \\mu$"
   ]
  },
  {
   "cell_type": "code",
   "execution_count": 5,
   "metadata": {
    "collapsed": false
   },
   "outputs": [
    {
     "name": "stdout",
     "output_type": "stream",
     "text": [
      "                 sum_sq    df          F        PR(>F)\n",
      "sqrft     343066.057841   1.0  86.313500  1.393748e-14\n",
      "bdrms      10208.077786   1.0   2.568295  1.127350e-01\n",
      "Residual  337845.355171  85.0        NaN           NaN\n",
      "                            OLS Regression Results                            \n",
      "==============================================================================\n",
      "Dep. Variable:                  price   R-squared:                       0.632\n",
      "Model:                            OLS   Adj. R-squared:                  0.623\n",
      "Method:                 Least Squares   F-statistic:                     72.96\n",
      "Date:                Thu, 30 Jan 2020   Prob (F-statistic):           3.57e-19\n",
      "Time:                        15:47:29   Log-Likelihood:                -488.00\n",
      "No. Observations:                  88   AIC:                             982.0\n",
      "Df Residuals:                      85   BIC:                             989.4\n",
      "Df Model:                           2                                         \n",
      "Covariance Type:            nonrobust                                         \n",
      "==============================================================================\n",
      "                 coef    std err          t      P>|t|      [0.025      0.975]\n",
      "------------------------------------------------------------------------------\n",
      "Intercept    -19.3150     31.047     -0.622      0.536     -81.044      42.414\n",
      "sqrft          0.1284      0.014      9.291      0.000       0.101       0.156\n",
      "bdrms         15.1982      9.484      1.603      0.113      -3.658      34.054\n",
      "==============================================================================\n",
      "Omnibus:                       25.221   Durbin-Watson:                   1.858\n",
      "Prob(Omnibus):                  0.000   Jarque-Bera (JB):               44.973\n",
      "Skew:                           1.122   Prob(JB):                     1.72e-10\n",
      "Kurtosis:                       5.689   Cond. No.                     9.85e+03\n",
      "==============================================================================\n",
      "\n",
      "Warnings:\n",
      "[1] Standard Errors assume that the covariance matrix of the errors is correctly specified.\n",
      "[2] The condition number is large, 9.85e+03. This might indicate that there are\n",
      "strong multicollinearity or other numerical problems.\n"
     ]
    }
   ],
   "source": [
    "formula = '''price ~ sqrft + bdrms\n",
    "'''\n",
    "#model = ols(formula, df).fit(cov_type='HC0')\n",
    "model = ols(formula, df1)\n",
    "results = model.fit()\n",
    "aov_table = statsmodels.stats.anova.anova_lm(results, typ=2)\n",
    "print(aov_table)\n",
    "print(results.summary())"
   ]
  },
  {
   "cell_type": "markdown",
   "metadata": {},
   "source": [
    "### Questions: iii - What is the estimated increase in home price for a house with 1 additional bedroom that is 140 square feet in size?"
   ]
  },
  {
   "cell_type": "code",
   "execution_count": 13,
   "metadata": {
    "collapsed": false
   },
   "outputs": [
    {
     "name": "stdout",
     "output_type": "stream",
     "text": [
      "Intercept   -19.314996\n",
      "sqrft         0.128436\n",
      "bdrms        15.198191\n",
      "dtype: float64\n"
     ]
    }
   ],
   "source": [
    "coefs = results.params\n",
    "print(coefs)"
   ]
  },
  {
   "cell_type": "code",
   "execution_count": 18,
   "metadata": {
    "collapsed": false
   },
   "outputs": [
    {
     "name": "stdout",
     "output_type": "stream",
     "text": [
      "The coefficient for square feet is: 0.1284362104196576\n",
      "The coefficient for bedrooms is: 15.198191084137807\n",
      "The addition to home price due to square feet is: $17981.069458752063\n",
      "The additional value is: $33179.26054288987\n"
     ]
    }
   ],
   "source": [
    "sqrft = coefs.sqrft\n",
    "bdrms = coefs.bdrms\n",
    "sqrft_140 = sqrft*140\n",
    "price_add = bdrms+sqrft_140\n",
    "print(\"The coefficient for square feet is: \" + str(sqrft))\n",
    "print(\"The coefficient for bedrooms is: \" + str(bdrms))\n",
    "print(\"The addition to home price due to square feet is: $\" + str(sqrft_140*1000))\n",
    "print(\"The additional value is: $\" + str(price_add*1000))"
   ]
  },
  {
   "cell_type": "markdown",
   "metadata": {},
   "source": [
    "### Questions: v & vi"
   ]
  },
  {
   "cell_type": "code",
   "execution_count": 22,
   "metadata": {
    "collapsed": false
   },
   "outputs": [
    {
     "name": "stdout",
     "output_type": "stream",
     "text": [
      "Actual selling price:\n",
      "0    300.0\n",
      "Name: price, dtype: float64\n",
      " \n",
      "Predicted selling price:\n",
      "0    354.605249\n",
      "dtype: float64\n",
      " \n",
      "Residual:\n",
      "0   -54.605249\n",
      "dtype: float64\n",
      " \n",
      "Another way to compute estimated sell price using our Xs and our regression coefficients:\n",
      "0    354.605249\n",
      "dtype: float64\n"
     ]
    }
   ],
   "source": [
    "pred_obs = results.fittedvalues\n",
    "resids = results.resid\n",
    "price = df1.price\n",
    "actual_sqrft = df1.sqrft\n",
    "actual_bdrms = df1.bdrms\n",
    "\n",
    "print('Actual selling price:')\n",
    "print(price[0:1])\n",
    "print(' ')\n",
    "print('Predicted selling price:')\n",
    "print(pred_obs[0:1])\n",
    "print(' ')\n",
    "print('Residual:')\n",
    "print(resids[0:1])\n",
    "print(' ')\n",
    "print('Another way to compute estimated sell price using our Xs and our regression coefficients:')\n",
    "pred_price = coefs.Intercept + coefs.bdrms*actual_bdrms[0:1] + coefs.sqrft*actual_sqrft[0:1]\n",
    "print(pred_price)\n"
   ]
  },
  {
   "cell_type": "markdown",
   "metadata": {},
   "source": [
    "### What other objects are contained in the \"results\" object?"
   ]
  },
  {
   "cell_type": "code",
   "execution_count": 19,
   "metadata": {
    "collapsed": false
   },
   "outputs": [
    {
     "data": {
      "text/plain": [
       "['HC0_se',\n",
       " 'HC1_se',\n",
       " 'HC2_se',\n",
       " 'HC3_se',\n",
       " '_HCCM',\n",
       " '__class__',\n",
       " '__delattr__',\n",
       " '__dict__',\n",
       " '__dir__',\n",
       " '__doc__',\n",
       " '__eq__',\n",
       " '__format__',\n",
       " '__ge__',\n",
       " '__getattribute__',\n",
       " '__gt__',\n",
       " '__hash__',\n",
       " '__init__',\n",
       " '__init_subclass__',\n",
       " '__le__',\n",
       " '__lt__',\n",
       " '__module__',\n",
       " '__ne__',\n",
       " '__new__',\n",
       " '__reduce__',\n",
       " '__reduce_ex__',\n",
       " '__repr__',\n",
       " '__setattr__',\n",
       " '__sizeof__',\n",
       " '__str__',\n",
       " '__subclasshook__',\n",
       " '__weakref__',\n",
       " '_cache',\n",
       " '_data_attr',\n",
       " '_get_robustcov_results',\n",
       " '_is_nested',\n",
       " '_wexog_singular_values',\n",
       " 'aic',\n",
       " 'bic',\n",
       " 'bse',\n",
       " 'centered_tss',\n",
       " 'compare_f_test',\n",
       " 'compare_lm_test',\n",
       " 'compare_lr_test',\n",
       " 'condition_number',\n",
       " 'conf_int',\n",
       " 'conf_int_el',\n",
       " 'cov_HC0',\n",
       " 'cov_HC1',\n",
       " 'cov_HC2',\n",
       " 'cov_HC3',\n",
       " 'cov_kwds',\n",
       " 'cov_params',\n",
       " 'cov_type',\n",
       " 'df_model',\n",
       " 'df_resid',\n",
       " 'diagn',\n",
       " 'eigenvals',\n",
       " 'el_test',\n",
       " 'ess',\n",
       " 'f_pvalue',\n",
       " 'f_test',\n",
       " 'fittedvalues',\n",
       " 'fvalue',\n",
       " 'get_influence',\n",
       " 'get_prediction',\n",
       " 'get_robustcov_results',\n",
       " 'initialize',\n",
       " 'k_constant',\n",
       " 'llf',\n",
       " 'load',\n",
       " 'model',\n",
       " 'mse_model',\n",
       " 'mse_resid',\n",
       " 'mse_total',\n",
       " 'nobs',\n",
       " 'normalized_cov_params',\n",
       " 'outlier_test',\n",
       " 'params',\n",
       " 'predict',\n",
       " 'pvalues',\n",
       " 'remove_data',\n",
       " 'resid',\n",
       " 'resid_pearson',\n",
       " 'rsquared',\n",
       " 'rsquared_adj',\n",
       " 'save',\n",
       " 'scale',\n",
       " 'ssr',\n",
       " 'summary',\n",
       " 'summary2',\n",
       " 't_test',\n",
       " 't_test_pairwise',\n",
       " 'tvalues',\n",
       " 'uncentered_tss',\n",
       " 'use_t',\n",
       " 'wald_test',\n",
       " 'wald_test_terms',\n",
       " 'wresid']"
      ]
     },
     "execution_count": 19,
     "metadata": {},
     "output_type": "execute_result"
    }
   ],
   "source": [
    "dir(results)"
   ]
  },
  {
   "cell_type": "code",
   "execution_count": null,
   "metadata": {
    "collapsed": true
   },
   "outputs": [],
   "source": []
  }
 ],
 "metadata": {
  "kernelspec": {
   "display_name": "Python 3",
   "language": "python",
   "name": "python3"
  },
  "language_info": {
   "codemirror_mode": {
    "name": "ipython",
    "version": 3
   },
   "file_extension": ".py",
   "mimetype": "text/x-python",
   "name": "python",
   "nbconvert_exporter": "python",
   "pygments_lexer": "ipython3",
   "version": "3.6.8"
  }
 },
 "nbformat": 4,
 "nbformat_minor": 2
}
