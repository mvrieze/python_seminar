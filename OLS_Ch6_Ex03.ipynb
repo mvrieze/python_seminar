{
 "cells": [
  {
   "cell_type": "markdown",
   "metadata": {},
   "source": [
    "# OLS - Wooldridge Computer Exercise\n",
    "## Chapter 6, Exercise 3"
   ]
  },
  {
   "cell_type": "markdown",
   "metadata": {},
   "source": [
    "## To add a heading:\n",
    "- Insert a new cell\n",
    "- Type or paste-in content\n",
    "- Place a single / just one \"pound-sign\" in front of the heading content\n",
    "- Select \"Markdown\"\n",
    "- Press \"Shift\", \"Enter\" at same time to convert to clean commentary"
   ]
  },
  {
   "cell_type": "markdown",
   "metadata": {},
   "source": [
    "## To add a sub-heading:\n",
    "- Insert a new cell\n",
    "- Type or paste-in content\n",
    "- Place two \"pound-signs\" in front of the sub-heading\n",
    "- Select \"Markdown\"\n",
    "- Press \"Shift\", \"Enter\" at same time to convert to clean commentary"
   ]
  },
  {
   "cell_type": "markdown",
   "metadata": {},
   "source": [
    "## To add new bulleted documentation:\n",
    "\n",
    "- Insert a new cell\n",
    "- Type or paste-in content\n",
    "- Place a \"dash\" character in front of the bulleted content\n",
    "- Select \"Markdown\"\n",
    "- Press \"Shift\", \"Enter\" at same time to convert to clean commentary"
   ]
  },
  {
   "cell_type": "markdown",
   "metadata": {},
   "source": [
    "# References\n",
    "- Wooldridge, J.M. (2016). Introductory econometrics: A modern approach (6thed.). Mason, OH: South-Western, Cengage Learning.\n",
    "- Residual Plots: https://medium.com/@emredjan/emulating-r-regression-plots-in-python-43741952c034\n",
    "- Understanding residual plots: https://data.library.virginia.edu/diagnostic-plots/\n",
    "- VIF: https://etav.github.io/python/vif_factor_python.html\n",
    "- VIF: https://en.wikipedia.org/wiki/Variance_inflation_factor\n",
    "- Extracting various values from regression results: https://www.statsmodels.org/dev/generated/statsmodels.regression.linear_model.RegressionResults.html"
   ]
  },
  {
   "cell_type": "markdown",
   "metadata": {},
   "source": [
    "# Instantiate libraries"
   ]
  },
  {
   "cell_type": "code",
   "execution_count": 2,
   "metadata": {
    "collapsed": true
   },
   "outputs": [],
   "source": [
    "import pandas as pd\n",
    "import numpy as np\n",
    "import matplotlib.pyplot as plt\n",
    "import seaborn as sns\n",
    "%matplotlib inline\n",
    "\n",
    "import statsmodels\n",
    "import statsmodels.api as sm\n",
    "import statsmodels.stats.api as sms\n",
    "\n",
    "from statsmodels.formula.api import ols\n",
    "from statsmodels.compat import lzip\n",
    "from patsy import dmatrices\n",
    "from statsmodels.stats.outliers_influence import variance_inflation_factor\n",
    "\n",
    "from statsmodels.graphics.gofplots import ProbPlot\n",
    "\n",
    "#import pandas.tseries.api as sm\n",
    "#from tseries.formula.apt import ols\n",
    "\n",
    "from scipy.stats import ttest_ind, ttest_ind_from_stats\n",
    "from scipy.special import stdtr\n",
    "\n",
    "\n",
    "plt.style.use('seaborn') # pretty matplotlib plots\n",
    "\n",
    "plt.rc('font', size=14)\n",
    "plt.rc('figure', titlesize=18)\n",
    "plt.rc('axes', labelsize=15)\n",
    "plt.rc('axes', titlesize=18)\n",
    "\n",
    "# Latex markup language \n",
    "from IPython.display import Latex"
   ]
  },
  {
   "cell_type": "markdown",
   "metadata": {},
   "source": [
    "# Data Read from csv"
   ]
  },
  {
   "cell_type": "code",
   "execution_count": 3,
   "metadata": {
    "collapsed": false
   },
   "outputs": [
    {
     "name": "stdout",
     "output_type": "stream",
     "text": [
      "   wage  hours   IQ  KWW  educ  exper  tenure  age  married  black  south  \\\n",
      "0   769     40   93   35    12     11       2   31        1      0      0   \n",
      "1   808     50  119   41    18     11      16   37        1      0      0   \n",
      "2   825     40  108   46    14     11       9   33        1      0      0   \n",
      "3   650     40   96   32    12     13       7   32        1      0      0   \n",
      "4   562     40   74   27    11     14       5   34        1      0      0   \n",
      "\n",
      "   urban  sibs  brthord  meduc  feduc     lwage  \n",
      "0      1     1      2.0    8.0    8.0  6.645091  \n",
      "1      1     1      NaN   14.0   14.0  6.694562  \n",
      "2      1     1      2.0   14.0   14.0  6.715384  \n",
      "3      1     4      3.0   12.0   12.0  6.476973  \n",
      "4      1    10      6.0    6.0   11.0  6.331502  \n",
      "Wall time: 46.9 ms\n"
     ]
    }
   ],
   "source": [
    "%%time\n",
    "#df = pd.read_csv(BytesIO(csv_as_bytes),sep='|',nrows=100000)\n",
    "df1 = pd.read_stata('C://Users//a1000391//Desktop//Machine Learning Lab//Pandas//python_seminar-master//WAGE2.dta')\n",
    "print(df1.head())"
   ]
  },
  {
   "cell_type": "code",
   "execution_count": 4,
   "metadata": {
    "collapsed": true
   },
   "outputs": [],
   "source": [
    "df1['constant'] = 1"
   ]
  },
  {
   "cell_type": "markdown",
   "metadata": {},
   "source": [
    "# Data Checks\n",
    "- Columns"
   ]
  },
  {
   "cell_type": "code",
   "execution_count": 4,
   "metadata": {
    "collapsed": false
   },
   "outputs": [
    {
     "name": "stdout",
     "output_type": "stream",
     "text": [
      "<class 'pandas.core.frame.DataFrame'>\n",
      "Int64Index: 935 entries, 0 to 934\n",
      "Data columns (total 18 columns):\n",
      "wage        935 non-null int16\n",
      "hours       935 non-null int8\n",
      "IQ          935 non-null int16\n",
      "KWW         935 non-null int8\n",
      "educ        935 non-null int8\n",
      "exper       935 non-null int8\n",
      "tenure      935 non-null int8\n",
      "age         935 non-null int8\n",
      "married     935 non-null int8\n",
      "black       935 non-null int8\n",
      "south       935 non-null int8\n",
      "urban       935 non-null int8\n",
      "sibs        935 non-null int8\n",
      "brthord     852 non-null float64\n",
      "meduc       857 non-null float64\n",
      "feduc       741 non-null float64\n",
      "lwage       935 non-null float32\n",
      "constant    935 non-null int64\n",
      "dtypes: float32(1), float64(3), int16(2), int64(1), int8(11)\n",
      "memory usage: 53.9 KB\n",
      "Wall time: 22 ms\n"
     ]
    }
   ],
   "source": [
    "%%time\n",
    "df1.info()"
   ]
  },
  {
   "cell_type": "markdown",
   "metadata": {},
   "source": [
    "# Estimate: $log(wage) = \\alpha + \\beta_{1}educ + \\beta_{2}exper + \\beta_{3}(educ*exper) + \\mu$"
   ]
  },
  {
   "cell_type": "code",
   "execution_count": 5,
   "metadata": {
    "collapsed": false
   },
   "outputs": [
    {
     "name": "stdout",
     "output_type": "stream",
     "text": [
      "                sum_sq     df           F        PR(>F)\n",
      "educ         21.607355    1.0  140.376716  2.908162e-30\n",
      "exper         5.539957    1.0   35.991493  2.834572e-09\n",
      "educ:exper    0.675313    1.0    4.387312  3.647715e-02\n",
      "Residual    143.303309  931.0         NaN           NaN\n",
      "                            OLS Regression Results                            \n",
      "==============================================================================\n",
      "Dep. Variable:                  lwage   R-squared:                       0.135\n",
      "Model:                            OLS   Adj. R-squared:                  0.132\n",
      "Method:                 Least Squares   F-statistic:                     48.41\n",
      "Date:                Tue, 25 Feb 2020   Prob (F-statistic):           4.47e-29\n",
      "Time:                        16:44:19   Log-Likelihood:                -449.87\n",
      "No. Observations:                 935   AIC:                             907.7\n",
      "Df Residuals:                     931   BIC:                             927.1\n",
      "Df Model:                           3                                         \n",
      "Covariance Type:            nonrobust                                         \n",
      "==============================================================================\n",
      "                 coef    std err          t      P>|t|      [0.025      0.975]\n",
      "------------------------------------------------------------------------------\n",
      "Intercept      5.9495      0.241     24.704      0.000       5.477       6.422\n",
      "educ           0.0440      0.017      2.533      0.011       0.010       0.078\n",
      "exper         -0.0215      0.020     -1.076      0.282      -0.061       0.018\n",
      "educ:exper     0.0032      0.002      2.095      0.036       0.000       0.006\n",
      "==============================================================================\n",
      "Omnibus:                       30.632   Durbin-Watson:                   1.789\n",
      "Prob(Omnibus):                  0.000   Jarque-Bera (JB):               39.721\n",
      "Skew:                          -0.344   Prob(JB):                     2.37e-09\n",
      "Kurtosis:                       3.739   Cond. No.                     3.03e+03\n",
      "==============================================================================\n",
      "\n",
      "Warnings:\n",
      "[1] Standard Errors assume that the covariance matrix of the errors is correctly specified.\n",
      "[2] The condition number is large, 3.03e+03. This might indicate that there are\n",
      "strong multicollinearity or other numerical problems.\n"
     ]
    }
   ],
   "source": [
    "formula = '''lwage ~ educ + exper + (educ*exper)\n",
    "'''\n",
    "#model = ols(formula, df).fit(cov_type='HC0')\n",
    "model = ols(formula, df1)\n",
    "results = model.fit()\n",
    "aov_table = statsmodels.stats.anova.anova_lm(results, typ=2)\n",
    "print(aov_table)\n",
    "print(results.summary())"
   ]
  },
  {
   "cell_type": "markdown",
   "metadata": {},
   "source": [
    "## i - Holding experience fixed, return to another year of education:\n",
    "## $ log(wage) = \\beta_{1}\\Delta educ + \\beta_{3} (\\Delta educ)exper$\n",
    "## $ log(wage) / \\Delta educ = (\\beta_{1} + \\beta_{3}exper)$\n"
   ]
  },
  {
   "cell_type": "markdown",
   "metadata": {},
   "source": [
    "## ii - HypothesisTest:\n",
    "## $ H_{o}: \\beta_{3} = 0$\n",
    "## $ H_{a}: \\beta_{3} > 0$\n"
   ]
  },
  {
   "cell_type": "code",
   "execution_count": 6,
   "metadata": {
    "collapsed": false
   },
   "outputs": [
    {
     "name": "stdout",
     "output_type": "stream",
     "text": [
      "iii - Running the hypothesis test we get:\n",
      "T-Stat of educ:exper\n",
      "2.0945912148788666\n",
      "Raw P-Value of educ:exper\n",
      "0.03647714918816129\n",
      "For a one-tailed test ==> P-Value of educ:exper / 2\n",
      "0.018238574594080646\n"
     ]
    }
   ],
   "source": [
    "tvalues = results.tvalues\n",
    "tvalue_ed_ex = tvalues['educ:exper']\n",
    "pvalues = results.pvalues\n",
    "pvalue_ed_ex = pvalues['educ:exper']\n",
    "print('iii - Running the hypothesis test we get:')\n",
    "print('T-Stat of educ:exper')\n",
    "print(tvalue_ed_ex)\n",
    "print('Raw P-Value of educ:exper')\n",
    "print(pvalue_ed_ex)\n",
    "print('For a one-tailed test ==> P-Value of educ:exper / 2')\n",
    "print(pvalue_ed_ex/2)"
   ]
  },
  {
   "cell_type": "markdown",
   "metadata": {},
   "source": [
    "### iv - Return To Education When Experience = 10 Years\n",
    "### Starting with:\n",
    "### $ log(wage) = \\beta_{0} + \\beta_{1} educ + \\beta_{2} exper + \\beta_{3} educ*exper + \\mu$\n",
    "\n",
    "### Reparameterize (dropping in the mean as an \"interesting value\")\n",
    "### $ log(wage) = \\alpha_{0} + \\theta_{1} educ + \\theta_{2} exper + \\beta_{3}(educ-mean(educ))(exper-mean(exper)) + \\mu$\n",
    "\n",
    "### In our case, the interesting value for experience is 10 years.\n",
    "### First compute: $(exper-10)*educ$ and call it educexper10\n",
    "### Next estimate: $ log(wage) = \\beta_{0} + \\Theta_{1} educ + \\beta_{2} exper + \\beta_{3}educexper10 + \\mu$"
   ]
  },
  {
   "cell_type": "code",
   "execution_count": 7,
   "metadata": {
    "collapsed": false
   },
   "outputs": [
    {
     "name": "stdout",
     "output_type": "stream",
     "text": [
      "                   sum_sq     df           F        PR(>F)\n",
      "educ            21.599793    1.0  139.857690  3.649794e-30\n",
      "exper            1.868187    1.0   12.096430  5.285700e-04\n",
      "educ_exper_10    0.193843    1.0    1.255122  2.628654e-01\n",
      "Residual       143.784779  931.0         NaN           NaN\n",
      "                            OLS Regression Results                            \n",
      "==============================================================================\n",
      "Dep. Variable:                  lwage   R-squared:                       0.132\n",
      "Model:                            OLS   Adj. R-squared:                  0.129\n",
      "Method:                 Least Squares   F-statistic:                     47.21\n",
      "Date:                Tue, 25 Feb 2020   Prob (F-statistic):           2.11e-28\n",
      "Time:                        16:44:53   Log-Likelihood:                -451.44\n",
      "No. Observations:                 935   AIC:                             910.9\n",
      "Df Residuals:                     931   BIC:                             930.2\n",
      "Df Model:                           3                                         \n",
      "Covariance Type:            nonrobust                                         \n",
      "=================================================================================\n",
      "                    coef    std err          t      P>|t|      [0.025      0.975]\n",
      "---------------------------------------------------------------------------------\n",
      "Intercept         5.5396      0.117     47.442      0.000       5.310       5.769\n",
      "educ              0.0778      0.007     11.826      0.000       0.065       0.091\n",
      "exper             0.0161      0.005      3.478      0.001       0.007       0.025\n",
      "educ_exper_10     0.0004      0.000      1.120      0.263      -0.000       0.001\n",
      "==============================================================================\n",
      "Omnibus:                       28.349   Durbin-Watson:                   1.787\n",
      "Prob(Omnibus):                  0.000   Jarque-Bera (JB):               36.445\n",
      "Skew:                          -0.327   Prob(JB):                     1.22e-08\n",
      "Kurtosis:                       3.712   Cond. No.                         529.\n",
      "==============================================================================\n",
      "\n",
      "Warnings:\n",
      "[1] Standard Errors assume that the covariance matrix of the errors is correctly specified.\n"
     ]
    }
   ],
   "source": [
    "#First compute educ_exper_10 = educ*(10*exper)\n",
    "df1['educ_exper_10'] = df1['educ']*(df1['exper']-10)\n",
    "\n",
    "#Then Estimate The Model\n",
    "formula = '''lwage ~ educ + exper + educ_exper_10'''\n",
    "#model = ols(formula, df).fit(cov_type='HC0')\n",
    "model = ols(formula, df1)\n",
    "results = model.fit()\n",
    "aov_table = statsmodels.stats.anova.anova_lm(results, typ=2)\n",
    "print(aov_table)\n",
    "print(results.summary())"
   ]
  },
  {
   "cell_type": "code",
   "execution_count": null,
   "metadata": {
    "collapsed": true
   },
   "outputs": [],
   "source": []
  }
 ],
 "metadata": {
  "kernelspec": {
   "display_name": "Python 3",
   "language": "python",
   "name": "python3"
  },
  "language_info": {
   "codemirror_mode": {
    "name": "ipython",
    "version": 3
   },
   "file_extension": ".py",
   "mimetype": "text/x-python",
   "name": "python",
   "nbconvert_exporter": "python",
   "pygments_lexer": "ipython3",
   "version": "3.6.8"
  }
 },
 "nbformat": 4,
 "nbformat_minor": 2
}
