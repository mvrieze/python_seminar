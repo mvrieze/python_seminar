{
 "cells": [
  {
   "cell_type": "markdown",
   "metadata": {},
   "source": [
    "# OLS - Wooldridge Computer Exercise\n",
    "## Chapter 7, Exercise 14"
   ]
  },
  {
   "cell_type": "markdown",
   "metadata": {},
   "source": [
    "## To add a heading:\n",
    "- Insert a new cell\n",
    "- Type or paste-in content\n",
    "- Place a single / just one \"pound-sign\" in front of the heading content\n",
    "- Select \"Markdown\"\n",
    "- Press \"Shift\", \"Enter\" at same time to convert to clean commentary"
   ]
  },
  {
   "cell_type": "markdown",
   "metadata": {},
   "source": [
    "## To add a sub-heading:\n",
    "- Insert a new cell\n",
    "- Type or paste-in content\n",
    "- Place two \"pound-signs\" in front of the sub-heading\n",
    "- Select \"Markdown\"\n",
    "- Press \"Shift\", \"Enter\" at same time to convert to clean commentary"
   ]
  },
  {
   "cell_type": "markdown",
   "metadata": {},
   "source": [
    "## To add new bulleted documentation:\n",
    "\n",
    "- Insert a new cell\n",
    "- Type or paste-in content\n",
    "- Place a \"dash\" character in front of the bulleted content\n",
    "- Select \"Markdown\"\n",
    "- Press \"Shift\", \"Enter\" at same time to convert to clean commentary"
   ]
  },
  {
   "cell_type": "markdown",
   "metadata": {},
   "source": [
    "# References\n",
    "- Wooldridge, J.M. (2016). Introductory econometrics: A modern approach (6thed.). Mason, OH: South-Western, Cengage Learning.\n",
    "- Residual Plots: https://medium.com/@emredjan/emulating-r-regression-plots-in-python-43741952c034\n",
    "- Understanding residual plots: https://data.library.virginia.edu/diagnostic-plots/\n",
    "- VIF: https://etav.github.io/python/vif_factor_python.html\n",
    "- VIF: https://en.wikipedia.org/wiki/Variance_inflation_factor\n",
    "- Extracting various values from regression results: https://www.statsmodels.org/dev/generated/statsmodels.regression.linear_model.RegressionResults.html"
   ]
  },
  {
   "cell_type": "markdown",
   "metadata": {},
   "source": [
    "# Instantiate libraries"
   ]
  },
  {
   "cell_type": "code",
   "execution_count": 1,
   "metadata": {},
   "outputs": [],
   "source": [
    "import pandas as pd\n",
    "import numpy as np\n",
    "import matplotlib.pyplot as plt\n",
    "import seaborn as sns\n",
    "%matplotlib inline\n",
    "\n",
    "import statsmodels\n",
    "import statsmodels.api as sm\n",
    "import statsmodels.stats.api as sms\n",
    "\n",
    "from statsmodels.formula.api import ols\n",
    "from statsmodels.compat import lzip\n",
    "\n",
    "from statsmodels.graphics.gofplots import ProbPlot\n",
    "\n",
    "#import pandas.tseries.api as sm\n",
    "#from tseries.formula.apt import ols\n",
    "\n",
    "from scipy.stats import ttest_ind, ttest_ind_from_stats\n",
    "from scipy.special import stdtr\n",
    "from scipy.stats import t\n",
    "from math import sqrt\n",
    "\n",
    "plt.style.use('seaborn') # pretty matplotlib plots\n",
    "\n",
    "plt.rc('font', size=14)\n",
    "plt.rc('figure', titlesize=18)\n",
    "plt.rc('axes', labelsize=15)\n",
    "plt.rc('axes', titlesize=18)\n",
    "\n",
    "# Latex markup language \n",
    "from IPython.display import Latex"
   ]
  },
  {
   "cell_type": "markdown",
   "metadata": {},
   "source": [
    "# Data Read from csv"
   ]
  },
  {
   "cell_type": "code",
   "execution_count": 2,
   "metadata": {},
   "outputs": [
    {
     "name": "stdout",
     "output_type": "stream",
     "text": [
      "   OBS  RESPONSE  GIFT  RESPLASTMAIL  WEEKSLASTRESP  PROPRESPONSE  \\\n",
      "0    1         0     0             0     143.000000           0.3   \n",
      "1    2         0     0             0      65.428571           0.3   \n",
      "2    3         0     0             1      13.142857           0.3   \n",
      "3    4         0     0             0     120.142857           0.3   \n",
      "4    5         1    10             0     103.857143           0.2   \n",
      "\n",
      "   MAILSPERYEAR  GIFTLASTRESP  AVERAGEGIFT  \n",
      "0           2.5            10         10.0  \n",
      "1           2.5            10         10.0  \n",
      "2           2.5            10         10.0  \n",
      "3           2.5            10         10.0  \n",
      "4           2.5            10         10.0  \n",
      "Wall time: 35 ms\n"
     ]
    }
   ],
   "source": [
    "%%time\n",
    "#df = pd.read_csv(BytesIO(csv_as_bytes),sep='|',nrows=100000)\n",
    "df1 = pd.read_csv('C://Users//mvrie//Downloads//firepit-master//Charity.csv',sep=',')\n",
    "print(df1.head())"
   ]
  },
  {
   "cell_type": "code",
   "execution_count": 3,
   "metadata": {},
   "outputs": [],
   "source": [
    "df1['constant'] = 1"
   ]
  },
  {
   "cell_type": "markdown",
   "metadata": {},
   "source": [
    "# Data Checks"
   ]
  },
  {
   "cell_type": "markdown",
   "metadata": {},
   "source": [
    "- Columns"
   ]
  },
  {
   "cell_type": "code",
   "execution_count": 4,
   "metadata": {},
   "outputs": [
    {
     "name": "stdout",
     "output_type": "stream",
     "text": [
      "<class 'pandas.core.frame.DataFrame'>\n",
      "RangeIndex: 4268 entries, 0 to 4267\n",
      "Data columns (total 10 columns):\n",
      "OBS              4268 non-null int64\n",
      "RESPONSE         4268 non-null int64\n",
      "GIFT             4268 non-null int64\n",
      "RESPLASTMAIL     4268 non-null int64\n",
      "WEEKSLASTRESP    4268 non-null float64\n",
      "PROPRESPONSE     4268 non-null float64\n",
      "MAILSPERYEAR     4268 non-null float64\n",
      "GIFTLASTRESP     4268 non-null int64\n",
      "AVERAGEGIFT      4268 non-null float64\n",
      "constant         4268 non-null int64\n",
      "dtypes: float64(4), int64(6)\n",
      "memory usage: 333.6 KB\n",
      "Wall time: 3.99 ms\n"
     ]
    }
   ],
   "source": [
    "%%time\n",
    "df1.info()"
   ]
  },
  {
   "cell_type": "markdown",
   "metadata": {},
   "source": [
    "# Job Helper Functions"
   ]
  },
  {
   "cell_type": "code",
   "execution_count": 5,
   "metadata": {},
   "outputs": [],
   "source": [
    "# HELPER FUNCTION: ODDS RATIOS\n",
    "def oddsratios():\n",
    "  print(\"Logistic Regression Coefficients\")\n",
    "  print(result.params)\n",
    "  print(\" \")\n",
    "  print(\"Logistic Regression Coefficient Confidence Intervals\")\n",
    "  print(result.conf_int())\n",
    "  print(\" \")\n",
    "  params = result.params\n",
    "  conf = result.conf_int()\n",
    "  conf['OR'] = params\n",
    "  conf.columns = ['2.5%', '97.5%', 'OR']\n",
    "  print(\"Logistic Regression Odds Ratios w/Conf Intervals\")\n",
    "  print(np.exp(conf))\n",
    "  "
   ]
  },
  {
   "cell_type": "markdown",
   "metadata": {},
   "source": [
    "## Exercises i and ii:\n",
    "### Estimate: $Response = \\alpha + \\beta_{1} RespLastMail + \\beta_{2} AverageGift + \\mu$"
   ]
  },
  {
   "cell_type": "code",
   "execution_count": 7,
   "metadata": {},
   "outputs": [
    {
     "name": "stdout",
     "output_type": "stream",
     "text": [
      "Index(['constant', 'RESPLASTMAIL', 'AVERAGEGIFT'], dtype='object')\n",
      "Optimization terminated successfully.\n",
      "         Current function value: 0.618032\n",
      "         Iterations 7\n",
      "                          Results: Logit\n",
      "==================================================================\n",
      "Model:              Logit            Pseudo R-squared: 0.082      \n",
      "Dependent Variable: RESPONSE         AIC:              5281.5199  \n",
      "Date:               2020-03-08 13:56 BIC:              5300.5966  \n",
      "No. Observations:   4268             Log-Likelihood:   -2637.8    \n",
      "Df Model:           2                LL-Null:          -2872.3    \n",
      "Df Residuals:       4265             LLR p-value:      1.3377e-102\n",
      "Converged:          1.0000           Scale:            1.0000     \n",
      "No. Iterations:     7.0000                                        \n",
      "-------------------------------------------------------------------\n",
      "               Coef.   Std.Err.     z      P>|z|    [0.025   0.975]\n",
      "-------------------------------------------------------------------\n",
      "constant      -0.9459    0.0496  -19.0511  0.0000  -1.0432  -0.8486\n",
      "RESPLASTMAIL   1.4463    0.0688   21.0342  0.0000   1.3115   1.5811\n",
      "AVERAGEGIFT    0.0014    0.0016    0.9153  0.3601  -0.0017   0.0045\n",
      "==================================================================\n",
      "\n",
      "Logistic Regression Coefficients\n",
      "constant       -0.945886\n",
      "RESPLASTMAIL    1.446290\n",
      "AVERAGEGIFT     0.001446\n",
      "dtype: float64\n",
      " \n",
      "Logistic Regression Coefficient Confidence Intervals\n",
      "                     0         1\n",
      "constant     -1.043198 -0.848574\n",
      "RESPLASTMAIL  1.311525  1.581056\n",
      "AVERAGEGIFT  -0.001651  0.004544\n",
      " \n",
      "Logistic Regression Odds Ratios w/Conf Intervals\n",
      "                  2.5%     97.5%        OR\n",
      "constant      0.352326  0.428025  0.388335\n",
      "RESPLASTMAIL  3.711830  4.860083  4.247329\n",
      "AVERAGEGIFT   0.998350  1.004554  1.001447\n"
     ]
    }
   ],
   "source": [
    "# create a clean data frame for the regression\n",
    "modeldata = df1[['RESPONSE','constant'\n",
    "#,'GIFT'   #THIS IS THE DOLLAR AMOUNT OF THE GIFT WHEN RESPONSE = 1\n",
    ",'RESPLASTMAIL'\n",
    ",'AVERAGEGIFT'\n",
    "]].dropna() #subset the dataframe\n",
    "\n",
    "# SIGNIFIES DROPPED VAR\n",
    "\n",
    "train_cols = modeldata.columns[1:]\n",
    "# Index([gre, gpa, prestige_2, prestige_3, prestige_4], dtype=object)\n",
    "print(train_cols)\n",
    "\n",
    "logit = sm.Logit(modeldata['RESPONSE'], modeldata[train_cols])\n",
    "\n",
    "# fit the model\n",
    "result = logit.fit()\n",
    "\n",
    "print(result.summary2())\n",
    "\n",
    "# Uncomment oddsratios() once you have final model specification\n",
    "oddsratios()"
   ]
  },
  {
   "cell_type": "markdown",
   "metadata": {},
   "source": [
    "## Exercises iii and iv: Add propresp and reestimate\n",
    "### Estimate: $Response = \\alpha + \\beta_{1} RespLastMail + \\beta_{2} AverageGift + \\beta_{3} PropResponse + \\mu$"
   ]
  },
  {
   "cell_type": "code",
   "execution_count": 8,
   "metadata": {},
   "outputs": [
    {
     "name": "stdout",
     "output_type": "stream",
     "text": [
      "Index(['constant', 'RESPLASTMAIL', 'AVERAGEGIFT', 'PROPRESPONSE'], dtype='object')\n",
      "Optimization terminated successfully.\n",
      "         Current function value: 0.566549\n",
      "         Iterations 6\n",
      "                          Results: Logit\n",
      "==================================================================\n",
      "Model:              Logit            Pseudo R-squared: 0.158      \n",
      "Dependent Variable: RESPONSE         AIC:              4844.0639  \n",
      "Date:               2020-03-08 14:00 BIC:              4869.4995  \n",
      "No. Observations:   4268             Log-Likelihood:   -2418.0    \n",
      "Df Model:           3                LL-Null:          -2872.3    \n",
      "Df Residuals:       4264             LLR p-value:      1.2059e-196\n",
      "Converged:          1.0000           Scale:            1.0000     \n",
      "No. Iterations:     6.0000                                        \n",
      "-------------------------------------------------------------------\n",
      "               Coef.   Std.Err.     z      P>|z|    [0.025   0.975]\n",
      "-------------------------------------------------------------------\n",
      "constant      -2.3808    0.0919  -25.8945  0.0000  -2.5610  -2.2006\n",
      "RESPLASTMAIL   0.4064    0.0866    4.6910  0.0000   0.2366   0.5762\n",
      "AVERAGEGIFT    0.0028    0.0017    1.6397  0.1011  -0.0006   0.0062\n",
      "PROPRESPONSE   3.5744    0.1797   19.8961  0.0000   3.2223   3.9265\n",
      "==================================================================\n",
      "\n",
      "Logistic Regression Coefficients\n",
      "constant       -2.380754\n",
      "RESPLASTMAIL    0.406409\n",
      "AVERAGEGIFT     0.002843\n",
      "PROPRESPONSE    3.574376\n",
      "dtype: float64\n",
      " \n",
      "Logistic Regression Coefficient Confidence Intervals\n",
      "                     0         1\n",
      "constant     -2.560954 -2.200554\n",
      "RESPLASTMAIL  0.236605  0.576213\n",
      "AVERAGEGIFT  -0.000555  0.006241\n",
      "PROPRESPONSE  3.222265  3.926487\n",
      " \n",
      "Logistic Regression Odds Ratios w/Conf Intervals\n",
      "                   2.5%      97.5%         OR\n",
      "constant       0.077231   0.110742   0.092481\n",
      "RESPLASTMAIL   1.266941   1.779288   1.501417\n",
      "AVERAGEGIFT    0.999445   1.006261   1.002847\n",
      "PROPRESPONSE  25.084862  50.728457  35.672347\n"
     ]
    }
   ],
   "source": [
    "# create a clean data frame for the regression\n",
    "modeldata = df1[['RESPONSE','constant'\n",
    "#,'GIFT'   #THIS IS THE DOLLAR AMOUNT OF THE GIFT WHEN RESPONSE = 1\n",
    ",'RESPLASTMAIL'\n",
    ",'AVERAGEGIFT'\n",
    ",'PROPRESPONSE'\n",
    "]].dropna() #subset the dataframe\n",
    "\n",
    "# SIGNIFIES DROPPED VAR\n",
    "\n",
    "train_cols = modeldata.columns[1:]\n",
    "# Index([gre, gpa, prestige_2, prestige_3, prestige_4], dtype=object)\n",
    "print(train_cols)\n",
    "\n",
    "logit = sm.Logit(modeldata['RESPONSE'], modeldata[train_cols])\n",
    "\n",
    "# fit the model\n",
    "result = logit.fit()\n",
    "\n",
    "print(result.summary2())\n",
    "\n",
    "# Uncomment oddsratios() once you have final model specification\n",
    "oddsratios()"
   ]
  },
  {
   "cell_type": "markdown",
   "metadata": {},
   "source": [
    "## Exercise v:\n",
    "### Estimate: $Response = \\alpha + \\beta_{1} RespLastMail + \\beta_{2} AverageGift  + \\beta_{3} PropResponse + \\beta_{4} MailsPerYear + \\mu$"
   ]
  },
  {
   "cell_type": "code",
   "execution_count": 9,
   "metadata": {},
   "outputs": [
    {
     "name": "stdout",
     "output_type": "stream",
     "text": [
      "Index(['constant', 'RESPLASTMAIL', 'AVERAGEGIFT', 'PROPRESPONSE',\n",
      "       'MAILSPERYEAR'],\n",
      "      dtype='object')\n",
      "Optimization terminated successfully.\n",
      "         Current function value: 0.562280\n",
      "         Iterations 7\n",
      "                          Results: Logit\n",
      "==================================================================\n",
      "Model:              Logit            Pseudo R-squared: 0.165      \n",
      "Dependent Variable: RESPONSE         AIC:              4809.6193  \n",
      "Date:               2020-03-08 14:07 BIC:              4841.4138  \n",
      "No. Observations:   4268             Log-Likelihood:   -2399.8    \n",
      "Df Model:           4                LL-Null:          -2872.3    \n",
      "Df Residuals:       4263             LLR p-value:      2.8920e-203\n",
      "Converged:          1.0000           Scale:            1.0000     \n",
      "No. Iterations:     7.0000                                        \n",
      "-------------------------------------------------------------------\n",
      "               Coef.   Std.Err.     z      P>|z|    [0.025   0.975]\n",
      "-------------------------------------------------------------------\n",
      "constant      -3.0022    0.1413  -21.2439  0.0000  -3.2792  -2.7252\n",
      "RESPLASTMAIL   0.4356    0.0871    4.9988  0.0000   0.2648   0.6063\n",
      "AVERAGEGIFT    0.0017    0.0017    0.9820  0.3261  -0.0017   0.0050\n",
      "PROPRESPONSE   3.4958    0.1798   19.4477  0.0000   3.1435   3.8481\n",
      "MAILSPERYEAR   0.3215    0.0534    6.0217  0.0000   0.2169   0.4261\n",
      "==================================================================\n",
      "\n",
      "Logistic Regression Coefficients\n",
      "constant       -3.002204\n",
      "RESPLASTMAIL    0.435551\n",
      "AVERAGEGIFT     0.001674\n",
      "PROPRESPONSE    3.495810\n",
      "MAILSPERYEAR    0.321501\n",
      "dtype: float64\n",
      " \n",
      "Logistic Regression Coefficient Confidence Intervals\n",
      "                     0         1\n",
      "constant     -3.279188 -2.725220\n",
      "RESPLASTMAIL  0.264779  0.606324\n",
      "AVERAGEGIFT  -0.001667  0.005015\n",
      "PROPRESPONSE  3.143497  3.848123\n",
      "MAILSPERYEAR  0.216858  0.426143\n",
      " \n",
      "Logistic Regression Odds Ratios w/Conf Intervals\n",
      "                   2.5%      97.5%         OR\n",
      "constant       0.037659   0.065532   0.049677\n",
      "RESPLASTMAIL   1.303143   1.833678   1.545815\n",
      "AVERAGEGIFT    0.998334   1.005027   1.001675\n",
      "PROPRESPONSE  23.184798  46.904927  32.976981\n",
      "MAILSPERYEAR   1.242168   1.531340   1.379196\n"
     ]
    }
   ],
   "source": [
    "# create a clean data frame for the regression\n",
    "modeldata = df1[['RESPONSE','constant'\n",
    "#,'GIFT'   #THIS IS THE DOLLAR AMOUNT OF THE GIFT WHEN RESPONSE = 1\n",
    ",'RESPLASTMAIL'\n",
    ",'AVERAGEGIFT'\n",
    ",'PROPRESPONSE'\n",
    ",'MAILSPERYEAR'\n",
    "]].dropna() #subset the dataframe\n",
    "\n",
    "# SIGNIFIES DROPPED VAR\n",
    "\n",
    "train_cols = modeldata.columns[1:]\n",
    "# Index([gre, gpa, prestige_2, prestige_3, prestige_4], dtype=object)\n",
    "print(train_cols)\n",
    "\n",
    "logit = sm.Logit(modeldata['RESPONSE'], modeldata[train_cols])\n",
    "\n",
    "# fit the model\n",
    "result = logit.fit()\n",
    "\n",
    "print(result.summary2())\n",
    "\n",
    "# Uncomment oddsratios() once you have final model specification\n",
    "oddsratios()"
   ]
  },
  {
   "cell_type": "code",
   "execution_count": null,
   "metadata": {},
   "outputs": [],
   "source": []
  }
 ],
 "metadata": {
  "kernelspec": {
   "display_name": "Python 3",
   "language": "python",
   "name": "python3"
  },
  "language_info": {
   "codemirror_mode": {
    "name": "ipython",
    "version": 3
   },
   "file_extension": ".py",
   "mimetype": "text/x-python",
   "name": "python",
   "nbconvert_exporter": "python",
   "pygments_lexer": "ipython3",
   "version": "3.7.4"
  }
 },
 "nbformat": 4,
 "nbformat_minor": 2
}
