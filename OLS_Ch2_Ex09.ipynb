{
 "cells": [
  {
   "cell_type": "markdown",
   "metadata": {},
   "source": [
    "# OLS - Wooldridge Computer Exercise\n",
    "## Chapter 2, Exercise 9"
   ]
  },
  {
   "cell_type": "markdown",
   "metadata": {},
   "source": [
    "## To add a heading:\n",
    "- Insert a new cell\n",
    "- Type or paste-in content\n",
    "- Place a single / just one \"pound-sign\" in front of the heading content\n",
    "- Select \"Markdown\"\n",
    "- Press \"Shift\", \"Enter\" at same time to convert to clean commentary"
   ]
  },
  {
   "cell_type": "markdown",
   "metadata": {},
   "source": [
    "## To add a sub-heading:\n",
    "- Insert a new cell\n",
    "- Type or paste-in content\n",
    "- Place two \"pound-signs\" in front of the sub-heading\n",
    "- Select \"Markdown\"\n",
    "- Press \"Shift\", \"Enter\" at same time to convert to clean commentary"
   ]
  },
  {
   "cell_type": "markdown",
   "metadata": {},
   "source": [
    "## To add new bulleted documentation:\n",
    "\n",
    "- Insert a new cell\n",
    "- Type or paste-in content\n",
    "- Place a \"dash\" character in front of the bulleted content\n",
    "- Select \"Markdown\"\n",
    "- Press \"Shift\", \"Enter\" at same time to convert to clean commentary"
   ]
  },
  {
   "cell_type": "markdown",
   "metadata": {},
   "source": [
    "# References\n",
    "- Wooldridge, J.M. (2016). Introductory econometrics: A modern approach (6thed.). Mason, OH: South-Western, Cengage Learning.\n",
    "- Residual Plots: https://medium.com/@emredjan/emulating-r-regression-plots-in-python-43741952c034\n",
    "- Understanding residual plots: https://data.library.virginia.edu/diagnostic-plots/"
   ]
  },
  {
   "cell_type": "markdown",
   "metadata": {},
   "source": [
    "# Instantiate libraries"
   ]
  },
  {
   "cell_type": "code",
   "execution_count": 1,
   "metadata": {
    "collapsed": true
   },
   "outputs": [],
   "source": [
    "import pandas as pd\n",
    "import numpy as np\n",
    "import matplotlib.pyplot as plt\n",
    "import seaborn as sns\n",
    "%matplotlib inline\n",
    "\n",
    "import statsmodels\n",
    "import statsmodels.api as sm\n",
    "import statsmodels.stats.api as sms\n",
    "\n",
    "from statsmodels.formula.api import ols\n",
    "from statsmodels.compat import lzip\n",
    "\n",
    "from statsmodels.graphics.gofplots import ProbPlot\n",
    "\n",
    "#import pandas.tseries.api as sm\n",
    "#from tseries.formula.apt import ols\n",
    "\n",
    "from scipy.stats import ttest_ind, ttest_ind_from_stats\n",
    "from scipy.special import stdtr\n",
    "\n",
    "\n",
    "plt.style.use('seaborn') # pretty matplotlib plots\n",
    "\n",
    "plt.rc('font', size=14)\n",
    "plt.rc('figure', titlesize=18)\n",
    "plt.rc('axes', labelsize=15)\n",
    "plt.rc('axes', titlesize=18)\n",
    "\n",
    "# Latex markup language \n",
    "from IPython.display import Latex\n"
   ]
  },
  {
   "cell_type": "markdown",
   "metadata": {},
   "source": [
    "# Data Read from csv"
   ]
  },
  {
   "cell_type": "code",
   "execution_count": 2,
   "metadata": {
    "collapsed": false
   },
   "outputs": [
    {
     "name": "stdout",
     "output_type": "stream",
     "text": [
      "   arrests  countyid    density    popul   perc1019  perc2029  percblack  \\\n",
      "0      2.0      1001  54.049999  32216.0  20.629999     15.28  22.330000   \n",
      "1      3.0      1001  53.660000  31984.0  20.190001     15.55  22.070000   \n",
      "2      2.0      1001  53.750000  32036.0  19.660000     15.73  21.799999   \n",
      "3      7.0      1001  53.779999  32056.0  19.100000     15.88  21.530001   \n",
      "4      3.0      1001  53.910000  32128.0  18.539999     15.92  21.260000   \n",
      "\n",
      "    percmale  rpcincmaint   rpcpersinc  rpcunemins  year  murders  murdrate  \\\n",
      "0  40.250000   167.669998  8780.799805   29.160000  1980        2  0.620810   \n",
      "1  40.360001   167.990005  8232.799805   43.919998  1981        1  0.312656   \n",
      "2  40.419998   166.630005  8327.610352   71.410004  1982        3  0.936446   \n",
      "3  40.470001   176.529999  8545.549805   72.220001  1983        7  2.183679   \n",
      "4  40.509998   166.250000  8965.160156   40.360001  1984        2  0.622510   \n",
      "\n",
      "   arrestrate  statefips  countyfips  execs     lpopul  execrate  \n",
      "0    0.620809          1           1      0  10.380219       0.0  \n",
      "1    0.937969          1           1      0  10.372991       0.0  \n",
      "2    0.624298          1           1      0  10.374616       0.0  \n",
      "3    2.183679          1           1      0  10.375239       0.0  \n",
      "4    0.933765          1           1      0  10.377483       0.0  \n",
      "Wall time: 252 ms\n"
     ]
    }
   ],
   "source": [
    "%%time\n",
    "#df = pd.read_csv(BytesIO(csv_as_bytes),sep='|',nrows=100000)\n",
    "df1 = pd.read_stata('C://Users//Family//Documents//DataSetEconomics//Wooldridge//countymurders.dta')\n",
    "print(df1.head())"
   ]
  },
  {
   "cell_type": "code",
   "execution_count": 3,
   "metadata": {
    "collapsed": true
   },
   "outputs": [],
   "source": [
    "df1['constant'] = 1"
   ]
  },
  {
   "cell_type": "markdown",
   "metadata": {},
   "source": [
    "# Data Checks\n",
    "- Columns"
   ]
  },
  {
   "cell_type": "code",
   "execution_count": 4,
   "metadata": {
    "collapsed": false
   },
   "outputs": [
    {
     "name": "stdout",
     "output_type": "stream",
     "text": [
      "<class 'pandas.core.frame.DataFrame'>\n",
      "Int64Index: 37349 entries, 0 to 37348\n",
      "Data columns (total 21 columns):\n",
      "arrests        36845 non-null float64\n",
      "countyid       37349 non-null int32\n",
      "density        37349 non-null float32\n",
      "popul          37349 non-null float32\n",
      "perc1019       37349 non-null float32\n",
      "perc2029       37349 non-null float32\n",
      "percblack      37349 non-null float32\n",
      "percmale       37349 non-null float32\n",
      "rpcincmaint    37346 non-null float32\n",
      "rpcpersinc     37346 non-null float32\n",
      "rpcunemins     37346 non-null float32\n",
      "year           37349 non-null int16\n",
      "murders        37349 non-null int16\n",
      "murdrate       37349 non-null float32\n",
      "arrestrate     36845 non-null float32\n",
      "statefips      37349 non-null int8\n",
      "countyfips     37349 non-null int16\n",
      "execs          37349 non-null int8\n",
      "lpopul         37349 non-null float32\n",
      "execrate       37349 non-null float32\n",
      "constant       37349 non-null int64\n",
      "dtypes: float32(13), float64(1), int16(3), int32(1), int64(1), int8(2)\n",
      "memory usage: 3.1 MB\n",
      "Wall time: 34 ms\n"
     ]
    }
   ],
   "source": [
    "%%time\n",
    "df1.info()"
   ]
  },
  {
   "cell_type": "markdown",
   "metadata": {
    "collapsed": true
   },
   "source": [
    "### Question i. How many counties had 0 murders in 1996? How many counties had executions? What is the largest number of executions?"
   ]
  },
  {
   "cell_type": "code",
   "execution_count": 5,
   "metadata": {
    "collapsed": false
   },
   "outputs": [
    {
     "name": "stdout",
     "output_type": "stream",
     "text": [
      "Zero murders in 1996\n",
      "1051\n",
      "Counties with executions in 1996\n",
      "31\n",
      "Max number of executions in 1996\n",
      "3\n"
     ]
    }
   ],
   "source": [
    "print('Zero murders in 1996')\n",
    "df2 = df1[df1['year'] == 1996]\n",
    "df3 = df2[df2['murders'] == 0]\n",
    "count_zero = np.sum(df3['constant'])\n",
    "print(count_zero)\n",
    "\n",
    "print('Counties with executions in 1996')\n",
    "df3 = df2[df2['execs'] != 0]\n",
    "count_execs = np.sum(df3['constant'])\n",
    "print(count_execs)\n",
    "\n",
    "print('Max number of executions in 1996')\n",
    "max_execs = np.max(df2['execs'])\n",
    "print(max_execs)\n"
   ]
  },
  {
   "cell_type": "markdown",
   "metadata": {},
   "source": [
    "### ii. Estimate The Equation: $murders = \\beta_{0} + \\beta_{1} execs + \\mu$"
   ]
  },
  {
   "cell_type": "code",
   "execution_count": 7,
   "metadata": {
    "collapsed": false
   },
   "outputs": [
    {
     "name": "stdout",
     "output_type": "stream",
     "text": [
      "                sum_sq       df         F         PR(>F)\n",
      "execs     2.023887e+06      1.0  930.3651  7.440866e-202\n",
      "Residual  8.124350e+07  37347.0       NaN            NaN\n",
      "                            OLS Regression Results                            \n",
      "==============================================================================\n",
      "Dep. Variable:                murders   R-squared:                       0.024\n",
      "Model:                            OLS   Adj. R-squared:                  0.024\n",
      "Method:                 Least Squares   F-statistic:                     930.4\n",
      "Date:                Tue, 01 Jan 2019   Prob (F-statistic):          7.44e-202\n",
      "Time:                        18:43:37   Log-Likelihood:            -1.9651e+05\n",
      "No. Observations:               37349   AIC:                         3.930e+05\n",
      "Df Residuals:                   37347   BIC:                         3.930e+05\n",
      "Df Model:                           1                                         \n",
      "Covariance Type:            nonrobust                                         \n",
      "==============================================================================\n",
      "                 coef    std err          t      P>|t|      [0.025      0.975]\n",
      "------------------------------------------------------------------------------\n",
      "Intercept      6.8382      0.242     28.282      0.000       6.364       7.312\n",
      "execs         65.4650      2.146     30.502      0.000      61.258      69.672\n",
      "==============================================================================\n",
      "Omnibus:                    85271.323   Durbin-Watson:                   0.154\n",
      "Prob(Omnibus):                  0.000   Jarque-Bera (JB):        713733760.512\n",
      "Skew:                          22.100   Prob(JB):                         0.00\n",
      "Kurtosis:                     678.783   Cond. No.                         8.89\n",
      "==============================================================================\n",
      "\n",
      "Warnings:\n",
      "[1] Standard Errors assume that the covariance matrix of the errors is correctly specified.\n"
     ]
    }
   ],
   "source": [
    "formula = '''murders ~ execs\n",
    "'''\n",
    "#model = ols(formula, df).fit(cov_type='HC0')\n",
    "model = ols(formula, df1)\n",
    "results = model.fit()\n",
    "aov_table = statsmodels.stats.anova.anova_lm(results, typ=2)\n",
    "print(aov_table)\n",
    "print(results.summary())"
   ]
  }
 ],
 "metadata": {
  "kernelspec": {
   "display_name": "Python 3",
   "language": "python",
   "name": "python3"
  },
  "language_info": {
   "codemirror_mode": {
    "name": "ipython",
    "version": 3
   },
   "file_extension": ".py",
   "mimetype": "text/x-python",
   "name": "python",
   "nbconvert_exporter": "python",
   "pygments_lexer": "ipython3",
   "version": "3.6.8"
  }
 },
 "nbformat": 4,
 "nbformat_minor": 2
}
